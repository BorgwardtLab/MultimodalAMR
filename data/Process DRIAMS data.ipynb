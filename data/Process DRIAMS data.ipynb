{
 "cells": [
  {
   "cell_type": "markdown",
   "id": "8a3fb605-41aa-43c8-a920-9bcd0e8a6053",
   "metadata": {},
   "source": [
    "# Download and preprocessing of the DRIAMS datasets to obtain the files necessary to train the ResMLP model\n",
    "\n",
    "The raw data from Weis et al. (2022) is available through the Dryad platform at:\n",
    "[https://datadryad.org/stash/dataset/doi:10.5061/dryad.bzkh1899q](https://datadryad.org/stash/dataset/doi:10.5061/dryad.bzkh1899q)\n",
    "\n",
    "This script will require the download and extraction of the original files to then obtain the processed matrices.\n"
   ]
  },
  {
   "cell_type": "code",
   "execution_count": null,
   "id": "1e44e5ff-82fd-4bb7-a08d-888451c98d04",
   "metadata": {},
   "outputs": [],
   "source": [
    "import os\n",
    "import json\n",
    "import pandas as pd\n",
    "from tqdm.notebook import tqdm\n",
    "import numpy as np"
   ]
  },
  {
   "cell_type": "code",
   "execution_count": null,
   "id": "9909e32b-58df-4113-a373-4e74eddcb047",
   "metadata": {},
   "outputs": [],
   "source": [
    "# We make use of the preprocessed long table that includes information on all samples suitable for the analysis\n",
    "driams_long_table = pd.read_csv(\"../processed_data/DRIAMS_combined_long_table.csv\")\n",
    "driams_long_table.head()"
   ]
  },
  {
   "cell_type": "markdown",
   "id": "9e61475e-596c-4c87-baee-427e295e09e5",
   "metadata": {},
   "source": [
    "# DRIAMS A"
   ]
  },
  {
   "cell_type": "code",
   "execution_count": null,
   "id": "eea2a5d7-fa7c-4f0e-9404-695a134b0d8d",
   "metadata": {},
   "outputs": [],
   "source": [
    "os.makedirs(\"DRIAMS-A\", exist_ok=True)\n",
    "driams_a_samples = sorted(list(driams_long_table[driams_long_table[\"dataset\"]==\"A\"][\"sample_id\"].unique()))\n",
    "\n",
    "dataset_folder = \"DRIAMS/DRIAMS-A/binned_6000\" # Replace with the path where you downloaded the data if needed\n",
    "spectra_matrix = []\n",
    "for sample_id in tqdm(driams_a_samples):\n",
    "    sample_data = None\n",
    "    for year in [\"2015\", \"2016\", \"2017\", \"2018\"]:\n",
    "        if os.path.exists(os.path.join(dataset_folder, year, f\"{sample_id}.txt\")):\n",
    "            sample_data = pd.read_csv(os.path.join(dataset_folder, year, f\"{sample_id}.txt\"), sep=\" \", index_col=0)\n",
    "            break\n",
    "    if sample_data is None:\n",
    "        print(f\"File for sample {sample_id} not found\")\n",
    "        continue\n",
    "    spectra_matrix.append(sample_data[\"binned_intensity\"].values)\n",
    "\n",
    "spectra_matrix = np.vstack(spectra_matrix)\n",
    "print(spectra_matrix.shape)\n",
    "np.save(\"DRIAMS-A/spectra_binned_6000_all.npy\", spectra_matrix)"
   ]
  },
  {
   "cell_type": "markdown",
   "id": "6da334f8-f71b-48f8-ad15-7952f817796f",
   "metadata": {},
   "source": [
    "# DRIAMS B"
   ]
  },
  {
   "cell_type": "code",
   "execution_count": null,
   "id": "44310025-316f-4af2-907c-37cc486fd593",
   "metadata": {},
   "outputs": [],
   "source": [
    "os.makedirs(\"DRIAMS-B\", exist_ok=True)\n",
    "driams_b_samples = sorted(list(driams_long_table[driams_long_table[\"dataset\"]==\"B\"][\"sample_id\"].unique()))\n",
    "\n",
    "dataset_folder = \"DRIAMS/DRIAMS-B/binned_6000/2018\" # Replace with the path where you downloaded the data if needed\n",
    "spectra_matrix = []\n",
    "for sample_id in tqdm(driams_b_samples):\n",
    "    sample_data = pd.read_csv(os.path.join(dataset_folder, f\"{sample_id}.txt\"), sep=\" \", index_col=0)\n",
    "    spectra_matrix.append(sample_data[\"binned_intensity\"].values)\n",
    "\n",
    "spectra_matrix = np.vstack(spectra_matrix)\n",
    "print(spectra_matrix.shape)\n",
    "np.save(\"DRIAMS-B/spectra_binned_6000_2018.npy\", spectra_matrix)"
   ]
  },
  {
   "cell_type": "markdown",
   "id": "9a0974a3-00c8-4f76-9754-6cae15671535",
   "metadata": {},
   "source": [
    "# DRIAMS C"
   ]
  },
  {
   "cell_type": "code",
   "execution_count": null,
   "id": "ac854d42-1c17-463b-8987-8ba060758300",
   "metadata": {},
   "outputs": [],
   "source": [
    "os.makedirs(\"DRIAMS-C\", exist_ok=True)\n",
    "driams_c_samples = sorted(list(driams_long_table[driams_long_table[\"dataset\"]==\"C\"][\"sample_id\"].unique()))\n",
    "\n",
    "dataset_folder = \"DRIAMS/DRIAMS-C/binned_6000/2018\" # Replace with the path where you downloaded the data if needed\n",
    "spectra_matrix = []\n",
    "for sample_id in tqdm(driams_c_samples):\n",
    "    sample_data = pd.read_csv(os.path.join(dataset_folder, f\"{sample_id}.txt\"), sep=\" \", index_col=0)\n",
    "    spectra_matrix.append(sample_data[\"binned_intensity\"].values)\n",
    "\n",
    "spectra_matrix = np.vstack(spectra_matrix)\n",
    "print(spectra_matrix.shape)\n",
    "np.save(\"DRIAMS-C/spectra_binned_6000_2018.npy\", spectra_matrix)"
   ]
  },
  {
   "cell_type": "markdown",
   "id": "b5eb0abb-cfcd-4c15-8e18-a5d1e7cb898e",
   "metadata": {},
   "source": [
    "# DRIAMS D"
   ]
  },
  {
   "cell_type": "code",
   "execution_count": null,
   "id": "13e03911-1647-4bbd-bb69-89fc7a135591",
   "metadata": {},
   "outputs": [],
   "source": [
    "os.makedirs(\"DRIAMS-D\", exist_ok=True)\n",
    "driams_d_samples = sorted(list(driams_long_table[driams_long_table[\"dataset\"]==\"D\"][\"sample_id\"].unique()))\n",
    "\n",
    "dataset_folder = \"DRIAMS/DRIAMS-D/binned_6000/2018\" # Replace with the path where you downloaded the data if needed\n",
    "spectra_matrix = []\n",
    "for sample_id in tqdm(driams_d_samples):\n",
    "    sample_data = pd.read_csv(os.path.join(dataset_folder, f\"{sample_id}.txt\"), sep=\" \", index_col=0)\n",
    "    spectra_matrix.append(sample_data[\"binned_intensity\"].values)\n",
    "\n",
    "spectra_matrix = np.vstack(spectra_matrix)\n",
    "print(spectra_matrix.shape)\n",
    "np.save(\"DRIAMS-D/spectra_binned_6000_2018.npy\", spectra_matrix)"
   ]
  }
 ],
 "metadata": {
  "kernelspec": {
   "display_name": "Python 3 (ipykernel)",
   "language": "python",
   "name": "python3"
  },
  "language_info": {
   "codemirror_mode": {
    "name": "ipython",
    "version": 3
   },
   "file_extension": ".py",
   "mimetype": "text/x-python",
   "name": "python",
   "nbconvert_exporter": "python",
   "pygments_lexer": "ipython3",
   "version": "3.9.16"
  }
 },
 "nbformat": 4,
 "nbformat_minor": 5
}
