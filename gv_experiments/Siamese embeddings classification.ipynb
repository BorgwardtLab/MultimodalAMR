{
 "cells": [
  {
   "cell_type": "code",
   "execution_count": 1,
   "id": "58bd5dc4-cf13-4fbe-b6aa-15687cc21d8f",
   "metadata": {},
   "outputs": [],
   "source": [
    "import pandas as pd\n",
    "import numpy as np\n",
    "import os\n",
    "import matplotlib.pyplot as plt\n",
    "import seaborn as sns\n",
    "from sklearn.metrics import matthews_corrcoef, accuracy_score, balanced_accuracy_score, f1_score, average_precision_score\n",
    "from sklearn.metrics import precision_score, recall_score, confusion_matrix, ConfusionMatrixDisplay\n",
    "from sklearn.linear_model import LogisticRegression\n",
    "from sklearn.feature_selection import VarianceThreshold"
   ]
  },
  {
   "cell_type": "markdown",
   "id": "fc73ade6-ccfd-4bd1-8158-9c78ded47095",
   "metadata": {},
   "source": [
    "# Load data"
   ]
  },
  {
   "cell_type": "code",
   "execution_count": 2,
   "id": "97559488-e6dc-4e44-9cc3-d638d4f99bc6",
   "metadata": {},
   "outputs": [
    {
     "data": {
      "text/plain": [
       "(24551, 1024)"
      ]
     },
     "execution_count": 2,
     "metadata": {},
     "output_type": "execute_result"
    }
   ],
   "source": [
    "X_train = np.load(\"../data/DRIAMS-B/siamese_embeddings/embeddings_zero_shot_train.npy\")\n",
    "X_val = np.load(\"../data/DRIAMS-B/siamese_embeddings/embeddings_zero_shot_val.npy\")\n",
    "X_train.shape"
   ]
  },
  {
   "cell_type": "code",
   "execution_count": 3,
   "id": "891ef611-24d9-46f1-9f6d-f8af5f87a976",
   "metadata": {},
   "outputs": [
    {
     "data": {
      "text/html": [
       "<div>\n",
       "<style scoped>\n",
       "    .dataframe tbody tr th:only-of-type {\n",
       "        vertical-align: middle;\n",
       "    }\n",
       "\n",
       "    .dataframe tbody tr th {\n",
       "        vertical-align: top;\n",
       "    }\n",
       "\n",
       "    .dataframe thead th {\n",
       "        text-align: right;\n",
       "    }\n",
       "</style>\n",
       "<table border=\"1\" class=\"dataframe\">\n",
       "  <thead>\n",
       "    <tr style=\"text-align: right;\">\n",
       "      <th></th>\n",
       "      <th>sample_id</th>\n",
       "      <th>drug</th>\n",
       "      <th>species</th>\n",
       "      <th>response</th>\n",
       "      <th>dataset</th>\n",
       "    </tr>\n",
       "  </thead>\n",
       "  <tbody>\n",
       "    <tr>\n",
       "      <th>0</th>\n",
       "      <td>0043f2aa-7a23-4a9a-a83b-9237a365fc88</td>\n",
       "      <td>benzylpenicillin</td>\n",
       "      <td>Staphylococcus caprae</td>\n",
       "      <td>1</td>\n",
       "      <td>B</td>\n",
       "    </tr>\n",
       "    <tr>\n",
       "      <th>1</th>\n",
       "      <td>0043f2aa-7a23-4a9a-a83b-9237a365fc88</td>\n",
       "      <td>ciprofloxacin</td>\n",
       "      <td>Staphylococcus caprae</td>\n",
       "      <td>0</td>\n",
       "      <td>B</td>\n",
       "    </tr>\n",
       "    <tr>\n",
       "      <th>2</th>\n",
       "      <td>0043f2aa-7a23-4a9a-a83b-9237a365fc88</td>\n",
       "      <td>clindamycin</td>\n",
       "      <td>Staphylococcus caprae</td>\n",
       "      <td>0</td>\n",
       "      <td>B</td>\n",
       "    </tr>\n",
       "    <tr>\n",
       "      <th>3</th>\n",
       "      <td>0043f2aa-7a23-4a9a-a83b-9237a365fc88</td>\n",
       "      <td>daptomycin</td>\n",
       "      <td>Staphylococcus caprae</td>\n",
       "      <td>0</td>\n",
       "      <td>B</td>\n",
       "    </tr>\n",
       "    <tr>\n",
       "      <th>4</th>\n",
       "      <td>0043f2aa-7a23-4a9a-a83b-9237a365fc88</td>\n",
       "      <td>erythromycin</td>\n",
       "      <td>Staphylococcus caprae</td>\n",
       "      <td>0</td>\n",
       "      <td>B</td>\n",
       "    </tr>\n",
       "    <tr>\n",
       "      <th>...</th>\n",
       "      <td>...</td>\n",
       "      <td>...</td>\n",
       "      <td>...</td>\n",
       "      <td>...</td>\n",
       "      <td>...</td>\n",
       "    </tr>\n",
       "    <tr>\n",
       "      <th>6132</th>\n",
       "      <td>ffe0a561-85df-4480-ba08-d42020f40c01</td>\n",
       "      <td>erythromycin</td>\n",
       "      <td>Streptococcus pneumoniae</td>\n",
       "      <td>0</td>\n",
       "      <td>B</td>\n",
       "    </tr>\n",
       "    <tr>\n",
       "      <th>6133</th>\n",
       "      <td>ffe0a561-85df-4480-ba08-d42020f40c01</td>\n",
       "      <td>levofloxacin</td>\n",
       "      <td>Streptococcus pneumoniae</td>\n",
       "      <td>0</td>\n",
       "      <td>B</td>\n",
       "    </tr>\n",
       "    <tr>\n",
       "      <th>6134</th>\n",
       "      <td>ffe0a561-85df-4480-ba08-d42020f40c01</td>\n",
       "      <td>tetracycline</td>\n",
       "      <td>Streptococcus pneumoniae</td>\n",
       "      <td>0</td>\n",
       "      <td>B</td>\n",
       "    </tr>\n",
       "    <tr>\n",
       "      <th>6135</th>\n",
       "      <td>ffe0a561-85df-4480-ba08-d42020f40c01</td>\n",
       "      <td>vancomycin</td>\n",
       "      <td>Streptococcus pneumoniae</td>\n",
       "      <td>0</td>\n",
       "      <td>B</td>\n",
       "    </tr>\n",
       "    <tr>\n",
       "      <th>6136</th>\n",
       "      <td>ffeeece9-0608-4826-b9eb-1be874476538</td>\n",
       "      <td>nitrofurantoin</td>\n",
       "      <td>Enterococcus faecium</td>\n",
       "      <td>0</td>\n",
       "      <td>B</td>\n",
       "    </tr>\n",
       "  </tbody>\n",
       "</table>\n",
       "<p>6137 rows × 5 columns</p>\n",
       "</div>"
      ],
      "text/plain": [
       "                                 sample_id              drug  \\\n",
       "0     0043f2aa-7a23-4a9a-a83b-9237a365fc88  benzylpenicillin   \n",
       "1     0043f2aa-7a23-4a9a-a83b-9237a365fc88     ciprofloxacin   \n",
       "2     0043f2aa-7a23-4a9a-a83b-9237a365fc88       clindamycin   \n",
       "3     0043f2aa-7a23-4a9a-a83b-9237a365fc88        daptomycin   \n",
       "4     0043f2aa-7a23-4a9a-a83b-9237a365fc88      erythromycin   \n",
       "...                                    ...               ...   \n",
       "6132  ffe0a561-85df-4480-ba08-d42020f40c01      erythromycin   \n",
       "6133  ffe0a561-85df-4480-ba08-d42020f40c01      levofloxacin   \n",
       "6134  ffe0a561-85df-4480-ba08-d42020f40c01      tetracycline   \n",
       "6135  ffe0a561-85df-4480-ba08-d42020f40c01        vancomycin   \n",
       "6136  ffeeece9-0608-4826-b9eb-1be874476538    nitrofurantoin   \n",
       "\n",
       "                       species  response dataset  \n",
       "0        Staphylococcus caprae         1       B  \n",
       "1        Staphylococcus caprae         0       B  \n",
       "2        Staphylococcus caprae         0       B  \n",
       "3        Staphylococcus caprae         0       B  \n",
       "4        Staphylococcus caprae         0       B  \n",
       "...                        ...       ...     ...  \n",
       "6132  Streptococcus pneumoniae         0       B  \n",
       "6133  Streptococcus pneumoniae         0       B  \n",
       "6134  Streptococcus pneumoniae         0       B  \n",
       "6135  Streptococcus pneumoniae         0       B  \n",
       "6136      Enterococcus faecium         0       B  \n",
       "\n",
       "[6137 rows x 5 columns]"
      ]
     },
     "execution_count": 3,
     "metadata": {},
     "output_type": "execute_result"
    }
   ],
   "source": [
    "train_samples = pd.read_csv(\"../data/DRIAMS-B/siamese_embeddings/zero_shot_spect_drugEmbFingerPrint_Resist_train_subset.csv\")\n",
    "val_samples = pd.read_csv(\"../data/DRIAMS-B/siamese_embeddings/zero_shot_spect_drugEmbFingerPrint_Resist_val_subset.csv\")\n",
    "val_samples"
   ]
  },
  {
   "cell_type": "code",
   "execution_count": 4,
   "id": "0fdd6100-13e4-4d77-93df-9047cd45102c",
   "metadata": {},
   "outputs": [],
   "source": [
    "y_train = train_samples[\"response\"].values\n",
    "y_val = val_samples[\"response\"].values"
   ]
  },
  {
   "cell_type": "code",
   "execution_count": 5,
   "id": "cbbcb429-95f3-4157-b7d3-864619e436b0",
   "metadata": {},
   "outputs": [],
   "source": [
    "# Remove constant features\n",
    "\n",
    "var_thr = VarianceThreshold() #Removing constant by default\n",
    "var_thr.fit(X_train)\n",
    "var_supp = var_thr.get_support()\n",
    "\n",
    "X_train = X_train[:, var_supp]\n",
    "X_val = X_val[:, var_supp]"
   ]
  },
  {
   "cell_type": "code",
   "execution_count": 6,
   "id": "ab47d6ef-ab5e-4de1-b2f0-a7f159edf937",
   "metadata": {},
   "outputs": [
    {
     "name": "stdout",
     "output_type": "stream",
     "text": [
      "(242, 242)\n"
     ]
    },
    {
     "data": {
      "text/plain": [
       "0"
      ]
     },
     "execution_count": 6,
     "metadata": {},
     "output_type": "execute_result"
    }
   ],
   "source": [
    "# No collinear features with the 0.99 threshold\n",
    "\n",
    "corr = np.corrcoef(X_train.T)\n",
    "print(corr.shape)\n",
    "(np.triu(corr, k=1)>0.99).sum()\n"
   ]
  },
  {
   "cell_type": "markdown",
   "id": "a54028f4-bb97-485d-90d4-7367ed13e0ee",
   "metadata": {},
   "source": [
    "# Train and evaluate model"
   ]
  },
  {
   "cell_type": "code",
   "execution_count": 7,
   "id": "e90af6a3-788c-4e39-b891-23a3538c4376",
   "metadata": {},
   "outputs": [],
   "source": [
    "logreg = LogisticRegression()\n",
    "logreg.fit(X_train, y_train)\n",
    "\n",
    "y_pred = logreg.predict(X_val) # Predict label\n",
    "y_proba = logreg.predict_proba(X_val) # Predict probability"
   ]
  },
  {
   "cell_type": "code",
   "execution_count": 8,
   "id": "0cc4cb3a-6cc2-4538-8280-a22f67c116fe",
   "metadata": {},
   "outputs": [
    {
     "data": {
      "text/plain": [
       "{'mcc': 0.3684768509732333,\n",
       " 'balanced_accuracy': 0.632411523720176,\n",
       " 'f1': 0.4152880775812892,\n",
       " 'AUPRC': 0.48302689107477764,\n",
       " 'precision': 0.663023679417122,\n",
       " 'recall': 0.3023255813953488}"
      ]
     },
     "execution_count": 8,
     "metadata": {},
     "output_type": "execute_result"
    }
   ],
   "source": [
    "# Evaluate metrics\n",
    "val_metrics = {\n",
    "        \"mcc\": matthews_corrcoef(y_val, y_pred),\n",
    "        \"balanced_accuracy\": balanced_accuracy_score(y_val, y_pred),\n",
    "        \"f1\": f1_score(y_val, y_pred, zero_division=0),\n",
    "        \"AUPRC\": average_precision_score(y_val, y_proba[:, 1]),\n",
    "        \"precision\": precision_score(y_val, y_pred, zero_division=0),\n",
    "        \"recall\": recall_score(y_val, y_pred, zero_division=0)\n",
    "    }\n",
    "val_metrics"
   ]
  },
  {
   "cell_type": "code",
   "execution_count": 9,
   "id": "025be567-eaa3-40c6-b307-fb344312e0a9",
   "metadata": {},
   "outputs": [
    {
     "data": {
      "image/png": "[encoded data removed]",
      "text/plain": [
       "<Figure size 432x288 with 2 Axes>"
      ]
     },
     "metadata": {
      "needs_background": "light"
     },
     "output_type": "display_data"
    }
   ],
   "source": [
    "cmat = confusion_matrix(y_val, y_pred)\n",
    "ConfusionMatrixDisplay(cmat).plot()\n",
    "plt.show()"
   ]
  },
  {
   "cell_type": "code",
   "execution_count": 11,
   "id": "a9859da1-812f-4530-ac67-b8cf52787da6",
   "metadata": {},
   "outputs": [
    {
     "data": {
      "text/plain": [
       "0.3684768509732333"
      ]
     },
     "execution_count": 11,
     "metadata": {},
     "output_type": "execute_result"
    }
   ],
   "source": [
    "matthews_corrcoef(y_val, y_pred)"
   ]
  },
  {
   "cell_type": "code",
   "execution_count": 12,
   "id": "fbb6f78e-37e6-49d2-bc8f-8ef1feca2886",
   "metadata": {},
   "outputs": [
    {
     "data": {
      "text/plain": [
       "0.3684768509732333"
      ]
     },
     "execution_count": 12,
     "metadata": {},
     "output_type": "execute_result"
    }
   ],
   "source": [
    "matthews_corrcoef(1-y_val, 1-y_pred)"
   ]
  },
  {
   "cell_type": "code",
   "execution_count": null,
   "id": "56c10e17-edc3-4fa2-bca5-b37598e184a8",
   "metadata": {},
   "outputs": [],
   "source": []
  }
 ],
 "metadata": {
  "kernelspec": {
   "display_name": "Python 3",
   "language": "python",
   "name": "python3"
  },
  "language_info": {
   "codemirror_mode": {
    "name": "ipython",
    "version": 3
   },
   "file_extension": ".py",
   "mimetype": "text/x-python",
   "name": "python",
   "nbconvert_exporter": "python",
   "pygments_lexer": "ipython3",
   "version": "3.9.12"
  }
 },
 "nbformat": 4,
 "nbformat_minor": 5
}
