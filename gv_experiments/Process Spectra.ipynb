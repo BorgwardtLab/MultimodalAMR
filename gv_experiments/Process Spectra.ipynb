{
 "cells": [
  {
   "cell_type": "code",
   "execution_count": null,
   "outputs": [],
   "source": [
    "import pandas as pd\n",
    "import os\n",
    "import numpy as np\n",
    "from tqdm.notebook import tqdm"
   ],
   "metadata": {
    "collapsed": false,
    "pycharm": {
     "name": "#%%\n"
    }
   }
  },
  {
   "cell_type": "markdown",
   "source": [
    "# DRIAMS B"
   ],
   "metadata": {
    "collapsed": false,
    "pycharm": {
     "name": "#%% md\n"
    }
   }
  },
  {
   "cell_type": "code",
   "execution_count": null,
   "outputs": [],
   "source": [
    "long_table = pd.read_csv(\"../processed_data/DRIAMS_combined_long_table.csv\")\n",
    "long_table = long_table[long_table[\"dataset\"]==\"B\"].reset_index()\n",
    "long_table"
   ],
   "metadata": {
    "collapsed": false,
    "pycharm": {
     "name": "#%%\n"
    }
   }
  },
  {
   "cell_type": "code",
   "execution_count": null,
   "outputs": [],
   "source": [
    "all_samples = sorted(list(long_table[\"sample_id\"].unique()))\n",
    "print(len(all_samples))\n",
    "all_samples[:10]"
   ],
   "metadata": {
    "collapsed": false,
    "pycharm": {
     "name": "#%%\n"
    }
   }
  },
  {
   "cell_type": "code",
   "execution_count": null,
   "outputs": [],
   "source": [
    "samples_spectra = []\n",
    "\n",
    "for i, sample_id in tqdm(enumerate(all_samples)):\n",
    "    spectrum = pd.read_csv(f\"../data/DRIAMS-B/binned_6000/2018/{sample_id}.txt\", sep=\" \", index_col=0)\n",
    "    samples_spectra.append(spectrum.values.flatten())\n",
    "samples_spectra = np.vstack(samples_spectra)\n",
    "samples_spectra[0]"
   ],
   "metadata": {
    "collapsed": false,
    "pycharm": {
     "name": "#%%\n"
    }
   }
  },
  {
   "cell_type": "code",
   "execution_count": null,
   "outputs": [],
   "source": [
    "spectra_df = pd.DataFrame(data=samples_spectra, index=all_samples)\n",
    "spectra_df"
   ],
   "metadata": {
    "collapsed": false,
    "pycharm": {
     "name": "#%%\n"
    }
   }
  },
  {
   "cell_type": "code",
   "execution_count": null,
   "outputs": [],
   "source": [
    "spectra_df.to_csv(\"../data/DRIAMS-B/spectra_binned_6000_2018_reprocessed.csv\")"
   ],
   "metadata": {
    "collapsed": false,
    "pycharm": {
     "name": "#%%\n"
    }
   }
  },
  {
   "cell_type": "code",
   "execution_count": null,
   "outputs": [],
   "source": [],
   "metadata": {
    "collapsed": false,
    "pycharm": {
     "name": "#%%\n"
    }
   }
  },
  {
   "cell_type": "markdown",
   "id": "ccf6370d-b3a2-43f1-bad1-8339b9f260c8",
   "metadata": {
    "pycharm": {
     "name": "#%% md\n"
    }
   },
   "source": [
    "# DRIAMS B"
   ]
  },
  {
   "cell_type": "code",
   "execution_count": 4,
   "id": "0a078300-7ee3-4879-bc33-e9ca9a88e261",
   "metadata": {
    "pycharm": {
     "name": "#%%\n"
    }
   },
   "outputs": [
    {
     "data": {
      "text/html": [
       "<div>\n",
       "<style scoped>\n",
       "    .dataframe tbody tr th:only-of-type {\n",
       "        vertical-align: middle;\n",
       "    }\n",
       "\n",
       "    .dataframe tbody tr th {\n",
       "        vertical-align: top;\n",
       "    }\n",
       "\n",
       "    .dataframe thead th {\n",
       "        text-align: right;\n",
       "    }\n",
       "</style>\n",
       "<table border=\"1\" class=\"dataframe\">\n",
       "  <thead>\n",
       "    <tr style=\"text-align: right;\">\n",
       "      <th></th>\n",
       "      <th>index</th>\n",
       "      <th>species</th>\n",
       "      <th>sample_id</th>\n",
       "      <th>drug</th>\n",
       "      <th>response</th>\n",
       "      <th>dataset</th>\n",
       "    </tr>\n",
       "  </thead>\n",
       "  <tbody>\n",
       "    <tr>\n",
       "      <th>0</th>\n",
       "      <td>474238</td>\n",
       "      <td>Klebsiella pneumoniae</td>\n",
       "      <td>ca568529-351a-43af-8cec-7175488f66ea</td>\n",
       "      <td>Amikacin</td>\n",
       "      <td>0</td>\n",
       "      <td>B</td>\n",
       "    </tr>\n",
       "    <tr>\n",
       "      <th>1</th>\n",
       "      <td>474239</td>\n",
       "      <td>Klebsiella pneumoniae</td>\n",
       "      <td>ca568529-351a-43af-8cec-7175488f66ea</td>\n",
       "      <td>Ampicillin</td>\n",
       "      <td>1</td>\n",
       "      <td>B</td>\n",
       "    </tr>\n",
       "    <tr>\n",
       "      <th>2</th>\n",
       "      <td>474240</td>\n",
       "      <td>Klebsiella pneumoniae</td>\n",
       "      <td>ca568529-351a-43af-8cec-7175488f66ea</td>\n",
       "      <td>Cefepime</td>\n",
       "      <td>0</td>\n",
       "      <td>B</td>\n",
       "    </tr>\n",
       "    <tr>\n",
       "      <th>3</th>\n",
       "      <td>474241</td>\n",
       "      <td>Klebsiella pneumoniae</td>\n",
       "      <td>ca568529-351a-43af-8cec-7175488f66ea</td>\n",
       "      <td>Cefoxitin</td>\n",
       "      <td>0</td>\n",
       "      <td>B</td>\n",
       "    </tr>\n",
       "    <tr>\n",
       "      <th>4</th>\n",
       "      <td>474242</td>\n",
       "      <td>Klebsiella pneumoniae</td>\n",
       "      <td>ca568529-351a-43af-8cec-7175488f66ea</td>\n",
       "      <td>Ceftazidime</td>\n",
       "      <td>0</td>\n",
       "      <td>B</td>\n",
       "    </tr>\n",
       "    <tr>\n",
       "      <th>...</th>\n",
       "      <td>...</td>\n",
       "      <td>...</td>\n",
       "      <td>...</td>\n",
       "      <td>...</td>\n",
       "      <td>...</td>\n",
       "      <td>...</td>\n",
       "    </tr>\n",
       "    <tr>\n",
       "      <th>32372</th>\n",
       "      <td>506610</td>\n",
       "      <td>Staphylococcus aureus</td>\n",
       "      <td>57043b13-3ba8-4f30-83ac-2416c23cec3a</td>\n",
       "      <td>Rifampicin</td>\n",
       "      <td>0</td>\n",
       "      <td>B</td>\n",
       "    </tr>\n",
       "    <tr>\n",
       "      <th>32373</th>\n",
       "      <td>506611</td>\n",
       "      <td>Staphylococcus aureus</td>\n",
       "      <td>57043b13-3ba8-4f30-83ac-2416c23cec3a</td>\n",
       "      <td>Teicoplanin</td>\n",
       "      <td>0</td>\n",
       "      <td>B</td>\n",
       "    </tr>\n",
       "    <tr>\n",
       "      <th>32374</th>\n",
       "      <td>506612</td>\n",
       "      <td>Staphylococcus aureus</td>\n",
       "      <td>57043b13-3ba8-4f30-83ac-2416c23cec3a</td>\n",
       "      <td>Tetracycline</td>\n",
       "      <td>0</td>\n",
       "      <td>B</td>\n",
       "    </tr>\n",
       "    <tr>\n",
       "      <th>32375</th>\n",
       "      <td>506613</td>\n",
       "      <td>Staphylococcus aureus</td>\n",
       "      <td>57043b13-3ba8-4f30-83ac-2416c23cec3a</td>\n",
       "      <td>Tigecycline</td>\n",
       "      <td>0</td>\n",
       "      <td>B</td>\n",
       "    </tr>\n",
       "    <tr>\n",
       "      <th>32376</th>\n",
       "      <td>506614</td>\n",
       "      <td>Staphylococcus aureus</td>\n",
       "      <td>57043b13-3ba8-4f30-83ac-2416c23cec3a</td>\n",
       "      <td>Vancomycin</td>\n",
       "      <td>0</td>\n",
       "      <td>B</td>\n",
       "    </tr>\n",
       "  </tbody>\n",
       "</table>\n",
       "<p>32377 rows × 6 columns</p>\n",
       "</div>"
      ],
      "text/plain": [
       "        index                species                             sample_id  \\\n",
       "0      474238  Klebsiella pneumoniae  ca568529-351a-43af-8cec-7175488f66ea   \n",
       "1      474239  Klebsiella pneumoniae  ca568529-351a-43af-8cec-7175488f66ea   \n",
       "2      474240  Klebsiella pneumoniae  ca568529-351a-43af-8cec-7175488f66ea   \n",
       "3      474241  Klebsiella pneumoniae  ca568529-351a-43af-8cec-7175488f66ea   \n",
       "4      474242  Klebsiella pneumoniae  ca568529-351a-43af-8cec-7175488f66ea   \n",
       "...       ...                    ...                                   ...   \n",
       "32372  506610  Staphylococcus aureus  57043b13-3ba8-4f30-83ac-2416c23cec3a   \n",
       "32373  506611  Staphylococcus aureus  57043b13-3ba8-4f30-83ac-2416c23cec3a   \n",
       "32374  506612  Staphylococcus aureus  57043b13-3ba8-4f30-83ac-2416c23cec3a   \n",
       "32375  506613  Staphylococcus aureus  57043b13-3ba8-4f30-83ac-2416c23cec3a   \n",
       "32376  506614  Staphylococcus aureus  57043b13-3ba8-4f30-83ac-2416c23cec3a   \n",
       "\n",
       "               drug  response dataset  \n",
       "0          Amikacin         0       B  \n",
       "1        Ampicillin         1       B  \n",
       "2          Cefepime         0       B  \n",
       "3         Cefoxitin         0       B  \n",
       "4       Ceftazidime         0       B  \n",
       "...             ...       ...     ...  \n",
       "32372    Rifampicin         0       B  \n",
       "32373   Teicoplanin         0       B  \n",
       "32374  Tetracycline         0       B  \n",
       "32375   Tigecycline         0       B  \n",
       "32376    Vancomycin         0       B  \n",
       "\n",
       "[32377 rows x 6 columns]"
      ]
     },
     "execution_count": 4,
     "metadata": {},
     "output_type": "execute_result"
    }
   ],
   "source": [
    "long_table = pd.read_csv(\"../processed_data/DRIAMS_combined_long_table.csv\")\n",
    "long_table = long_table[long_table[\"dataset\"]==\"B\"].reset_index()\n",
    "long_table"
   ]
  },
  {
   "cell_type": "code",
   "execution_count": 5,
   "id": "fa141041-240d-42e2-942d-a4b2ac44b004",
   "metadata": {
    "pycharm": {
     "name": "#%%\n"
    }
   },
   "outputs": [
    {
     "name": "stdout",
     "output_type": "stream",
     "text": [
      "2384\n"
     ]
    },
    {
     "data": {
      "text/plain": [
       "['00207b6d-3901-4f88-8fec-4ec9ce2e4019',\n",
       " '00277f20-a6f3-40fc-b582-33795727a3f9',\n",
       " '0043f2aa-7a23-4a9a-a83b-9237a365fc88',\n",
       " '008c7f1a-a6ee-46f4-97ac-cbac4eacc5b3',\n",
       " '009cec21-e6ca-4a1d-9309-0c028c0b3999',\n",
       " '00a481af-5b89-4987-8be4-041d19bee175',\n",
       " '00aa2ddb-1819-475c-85e6-ed39d6efe6bc',\n",
       " '00ac28b8-4461-449d-bf25-de5c541a5393',\n",
       " '00c6e866-f9af-4960-831c-91290e13070f',\n",
       " '00e051e6-ac27-46c7-9527-830bcc920292']"
      ]
     },
     "execution_count": 5,
     "metadata": {},
     "output_type": "execute_result"
    }
   ],
   "source": [
    "all_samples = sorted(list(long_table[\"sample_id\"].unique()))\n",
    "print(len(all_samples))\n",
    "all_samples[:10]"
   ]
  },
  {
   "cell_type": "code",
   "execution_count": 6,
   "id": "dc8b1558-2478-4704-b4af-8a576d792b5f",
   "metadata": {
    "pycharm": {
     "name": "#%%\n"
    }
   },
   "outputs": [
    {
     "data": {
      "application/vnd.jupyter.widget-view+json": {
       "model_id": "278d348b8a4e47f7812619a3924fe95a",
       "version_major": 2,
       "version_minor": 0
      },
      "text/plain": [
       "0it [00:00, ?it/s]"
      ]
     },
     "metadata": {},
     "output_type": "display_data"
    },
    {
     "data": {
      "text/plain": [
       "array([1.12691521e-04, 4.39612589e-04, 8.46463367e-04, ...,\n",
       "       2.76426754e-06, 3.19749764e-05, 3.14866773e-05])"
      ]
     },
     "execution_count": 6,
     "metadata": {},
     "output_type": "execute_result"
    }
   ],
   "source": [
    "samples_spectra = []\n",
    "\n",
    "for i, sample_id in tqdm(enumerate(all_samples)):\n",
    "    spectrum = pd.read_csv(f\"../data/DRIAMS-B/binned_6000/2018/{sample_id}.txt\", sep=\" \", index_col=0)\n",
    "    samples_spectra.append(spectrum.values.flatten())\n",
    "samples_spectra = np.vstack(samples_spectra)\n",
    "samples_spectra[0]"
   ]
  },
  {
   "cell_type": "code",
   "execution_count": 7,
   "id": "7a505a67-af1f-49cd-b511-0ae62bf4a564",
   "metadata": {
    "pycharm": {
     "name": "#%%\n"
    }
   },
   "outputs": [
    {
     "data": {
      "text/html": [
       "<div>\n",
       "<style scoped>\n",
       "    .dataframe tbody tr th:only-of-type {\n",
       "        vertical-align: middle;\n",
       "    }\n",
       "\n",
       "    .dataframe tbody tr th {\n",
       "        vertical-align: top;\n",
       "    }\n",
       "\n",
       "    .dataframe thead th {\n",
       "        text-align: right;\n",
       "    }\n",
       "</style>\n",
       "<table border=\"1\" class=\"dataframe\">\n",
       "  <thead>\n",
       "    <tr style=\"text-align: right;\">\n",
       "      <th></th>\n",
       "      <th>0</th>\n",
       "      <th>1</th>\n",
       "      <th>2</th>\n",
       "      <th>3</th>\n",
       "      <th>4</th>\n",
       "      <th>5</th>\n",
       "      <th>6</th>\n",
       "      <th>7</th>\n",
       "      <th>8</th>\n",
       "      <th>9</th>\n",
       "      <th>...</th>\n",
       "      <th>5990</th>\n",
       "      <th>5991</th>\n",
       "      <th>5992</th>\n",
       "      <th>5993</th>\n",
       "      <th>5994</th>\n",
       "      <th>5995</th>\n",
       "      <th>5996</th>\n",
       "      <th>5997</th>\n",
       "      <th>5998</th>\n",
       "      <th>5999</th>\n",
       "    </tr>\n",
       "  </thead>\n",
       "  <tbody>\n",
       "    <tr>\n",
       "      <th>00207b6d-3901-4f88-8fec-4ec9ce2e4019</th>\n",
       "      <td>0.000113</td>\n",
       "      <td>0.000440</td>\n",
       "      <td>0.000846</td>\n",
       "      <td>0.000645</td>\n",
       "      <td>0.000258</td>\n",
       "      <td>0.000532</td>\n",
       "      <td>0.000509</td>\n",
       "      <td>0.000468</td>\n",
       "      <td>0.000313</td>\n",
       "      <td>0.000611</td>\n",
       "      <td>...</td>\n",
       "      <td>0.000038</td>\n",
       "      <td>0.000044</td>\n",
       "      <td>0.000026</td>\n",
       "      <td>0.000025</td>\n",
       "      <td>0.000019</td>\n",
       "      <td>0.000015</td>\n",
       "      <td>0.000007</td>\n",
       "      <td>0.000003</td>\n",
       "      <td>0.000032</td>\n",
       "      <td>0.000031</td>\n",
       "    </tr>\n",
       "    <tr>\n",
       "      <th>00277f20-a6f3-40fc-b582-33795727a3f9</th>\n",
       "      <td>0.000532</td>\n",
       "      <td>0.000106</td>\n",
       "      <td>0.000571</td>\n",
       "      <td>0.000623</td>\n",
       "      <td>0.001851</td>\n",
       "      <td>0.003246</td>\n",
       "      <td>0.001229</td>\n",
       "      <td>0.000085</td>\n",
       "      <td>0.000024</td>\n",
       "      <td>0.000217</td>\n",
       "      <td>...</td>\n",
       "      <td>0.000014</td>\n",
       "      <td>0.000013</td>\n",
       "      <td>0.000023</td>\n",
       "      <td>0.000014</td>\n",
       "      <td>0.000021</td>\n",
       "      <td>0.000034</td>\n",
       "      <td>0.000029</td>\n",
       "      <td>0.000026</td>\n",
       "      <td>0.000013</td>\n",
       "      <td>0.000022</td>\n",
       "    </tr>\n",
       "    <tr>\n",
       "      <th>0043f2aa-7a23-4a9a-a83b-9237a365fc88</th>\n",
       "      <td>0.000518</td>\n",
       "      <td>0.002056</td>\n",
       "      <td>0.001310</td>\n",
       "      <td>0.001609</td>\n",
       "      <td>0.000957</td>\n",
       "      <td>0.000255</td>\n",
       "      <td>0.000062</td>\n",
       "      <td>0.000157</td>\n",
       "      <td>0.000886</td>\n",
       "      <td>0.001147</td>\n",
       "      <td>...</td>\n",
       "      <td>0.000038</td>\n",
       "      <td>0.000046</td>\n",
       "      <td>0.000048</td>\n",
       "      <td>0.000084</td>\n",
       "      <td>0.000054</td>\n",
       "      <td>0.000051</td>\n",
       "      <td>0.000055</td>\n",
       "      <td>0.000044</td>\n",
       "      <td>0.000040</td>\n",
       "      <td>0.000042</td>\n",
       "    </tr>\n",
       "    <tr>\n",
       "      <th>008c7f1a-a6ee-46f4-97ac-cbac4eacc5b3</th>\n",
       "      <td>0.000614</td>\n",
       "      <td>0.001773</td>\n",
       "      <td>0.001020</td>\n",
       "      <td>0.001451</td>\n",
       "      <td>0.001215</td>\n",
       "      <td>0.000276</td>\n",
       "      <td>0.000010</td>\n",
       "      <td>0.000050</td>\n",
       "      <td>0.000639</td>\n",
       "      <td>0.001339</td>\n",
       "      <td>...</td>\n",
       "      <td>0.000021</td>\n",
       "      <td>0.000013</td>\n",
       "      <td>0.000017</td>\n",
       "      <td>0.000018</td>\n",
       "      <td>0.000004</td>\n",
       "      <td>0.000008</td>\n",
       "      <td>0.000037</td>\n",
       "      <td>0.000030</td>\n",
       "      <td>0.000033</td>\n",
       "      <td>0.000041</td>\n",
       "    </tr>\n",
       "    <tr>\n",
       "      <th>009cec21-e6ca-4a1d-9309-0c028c0b3999</th>\n",
       "      <td>0.000346</td>\n",
       "      <td>0.000416</td>\n",
       "      <td>0.000309</td>\n",
       "      <td>0.000233</td>\n",
       "      <td>0.000146</td>\n",
       "      <td>0.000351</td>\n",
       "      <td>0.000530</td>\n",
       "      <td>0.000353</td>\n",
       "      <td>0.000031</td>\n",
       "      <td>0.000036</td>\n",
       "      <td>...</td>\n",
       "      <td>0.000101</td>\n",
       "      <td>0.000084</td>\n",
       "      <td>0.000119</td>\n",
       "      <td>0.000061</td>\n",
       "      <td>0.000043</td>\n",
       "      <td>0.000050</td>\n",
       "      <td>0.000016</td>\n",
       "      <td>0.000003</td>\n",
       "      <td>0.000020</td>\n",
       "      <td>0.000037</td>\n",
       "    </tr>\n",
       "    <tr>\n",
       "      <th>...</th>\n",
       "      <td>...</td>\n",
       "      <td>...</td>\n",
       "      <td>...</td>\n",
       "      <td>...</td>\n",
       "      <td>...</td>\n",
       "      <td>...</td>\n",
       "      <td>...</td>\n",
       "      <td>...</td>\n",
       "      <td>...</td>\n",
       "      <td>...</td>\n",
       "      <td>...</td>\n",
       "      <td>...</td>\n",
       "      <td>...</td>\n",
       "      <td>...</td>\n",
       "      <td>...</td>\n",
       "      <td>...</td>\n",
       "      <td>...</td>\n",
       "      <td>...</td>\n",
       "      <td>...</td>\n",
       "      <td>...</td>\n",
       "      <td>...</td>\n",
       "    </tr>\n",
       "    <tr>\n",
       "      <th>ffc24ecc-194a-422f-a33f-3582300123c8</th>\n",
       "      <td>0.000942</td>\n",
       "      <td>0.002272</td>\n",
       "      <td>0.001226</td>\n",
       "      <td>0.002537</td>\n",
       "      <td>0.002321</td>\n",
       "      <td>0.000647</td>\n",
       "      <td>0.000064</td>\n",
       "      <td>0.000131</td>\n",
       "      <td>0.001166</td>\n",
       "      <td>0.001645</td>\n",
       "      <td>...</td>\n",
       "      <td>0.000022</td>\n",
       "      <td>0.000046</td>\n",
       "      <td>0.000058</td>\n",
       "      <td>0.000075</td>\n",
       "      <td>0.000088</td>\n",
       "      <td>0.000112</td>\n",
       "      <td>0.000065</td>\n",
       "      <td>0.000075</td>\n",
       "      <td>0.000100</td>\n",
       "      <td>0.000129</td>\n",
       "    </tr>\n",
       "    <tr>\n",
       "      <th>ffc41881-3a5d-43a2-b285-f532ae22a89c</th>\n",
       "      <td>0.000197</td>\n",
       "      <td>0.000330</td>\n",
       "      <td>0.000127</td>\n",
       "      <td>0.000145</td>\n",
       "      <td>0.000244</td>\n",
       "      <td>0.000117</td>\n",
       "      <td>0.000251</td>\n",
       "      <td>0.000227</td>\n",
       "      <td>0.000221</td>\n",
       "      <td>0.000083</td>\n",
       "      <td>...</td>\n",
       "      <td>0.000037</td>\n",
       "      <td>0.000045</td>\n",
       "      <td>0.000014</td>\n",
       "      <td>0.000007</td>\n",
       "      <td>0.000003</td>\n",
       "      <td>0.000015</td>\n",
       "      <td>0.000025</td>\n",
       "      <td>0.000024</td>\n",
       "      <td>0.000043</td>\n",
       "      <td>0.000022</td>\n",
       "    </tr>\n",
       "    <tr>\n",
       "      <th>ffd5d5f5-8814-4f4c-9d3d-e3f79bd27406</th>\n",
       "      <td>0.000057</td>\n",
       "      <td>0.000749</td>\n",
       "      <td>0.001188</td>\n",
       "      <td>0.001050</td>\n",
       "      <td>0.000845</td>\n",
       "      <td>0.000298</td>\n",
       "      <td>0.000142</td>\n",
       "      <td>0.000517</td>\n",
       "      <td>0.003255</td>\n",
       "      <td>0.003269</td>\n",
       "      <td>...</td>\n",
       "      <td>0.000021</td>\n",
       "      <td>0.000024</td>\n",
       "      <td>0.000052</td>\n",
       "      <td>0.000088</td>\n",
       "      <td>0.000054</td>\n",
       "      <td>0.000057</td>\n",
       "      <td>0.000073</td>\n",
       "      <td>0.000012</td>\n",
       "      <td>0.000023</td>\n",
       "      <td>0.000006</td>\n",
       "    </tr>\n",
       "    <tr>\n",
       "      <th>ffe0a561-85df-4480-ba08-d42020f40c01</th>\n",
       "      <td>0.001836</td>\n",
       "      <td>0.003001</td>\n",
       "      <td>0.001470</td>\n",
       "      <td>0.001142</td>\n",
       "      <td>0.000667</td>\n",
       "      <td>0.000458</td>\n",
       "      <td>0.000034</td>\n",
       "      <td>0.000159</td>\n",
       "      <td>0.000939</td>\n",
       "      <td>0.000843</td>\n",
       "      <td>...</td>\n",
       "      <td>0.000058</td>\n",
       "      <td>0.000079</td>\n",
       "      <td>0.000092</td>\n",
       "      <td>0.000086</td>\n",
       "      <td>0.000121</td>\n",
       "      <td>0.000078</td>\n",
       "      <td>0.000082</td>\n",
       "      <td>0.000104</td>\n",
       "      <td>0.000071</td>\n",
       "      <td>0.000087</td>\n",
       "    </tr>\n",
       "    <tr>\n",
       "      <th>ffeeece9-0608-4826-b9eb-1be874476538</th>\n",
       "      <td>0.000299</td>\n",
       "      <td>0.000777</td>\n",
       "      <td>0.000988</td>\n",
       "      <td>0.003668</td>\n",
       "      <td>0.003509</td>\n",
       "      <td>0.000409</td>\n",
       "      <td>0.000029</td>\n",
       "      <td>0.000341</td>\n",
       "      <td>0.000851</td>\n",
       "      <td>0.001072</td>\n",
       "      <td>...</td>\n",
       "      <td>0.000015</td>\n",
       "      <td>0.000017</td>\n",
       "      <td>0.000015</td>\n",
       "      <td>0.000013</td>\n",
       "      <td>0.000034</td>\n",
       "      <td>0.000051</td>\n",
       "      <td>0.000026</td>\n",
       "      <td>0.000019</td>\n",
       "      <td>0.000015</td>\n",
       "      <td>0.000040</td>\n",
       "    </tr>\n",
       "  </tbody>\n",
       "</table>\n",
       "<p>2384 rows × 6000 columns</p>\n",
       "</div>"
      ],
      "text/plain": [
       "                                          0         1         2         3     \\\n",
       "00207b6d-3901-4f88-8fec-4ec9ce2e4019  0.000113  0.000440  0.000846  0.000645   \n",
       "00277f20-a6f3-40fc-b582-33795727a3f9  0.000532  0.000106  0.000571  0.000623   \n",
       "0043f2aa-7a23-4a9a-a83b-9237a365fc88  0.000518  0.002056  0.001310  0.001609   \n",
       "008c7f1a-a6ee-46f4-97ac-cbac4eacc5b3  0.000614  0.001773  0.001020  0.001451   \n",
       "009cec21-e6ca-4a1d-9309-0c028c0b3999  0.000346  0.000416  0.000309  0.000233   \n",
       "...                                        ...       ...       ...       ...   \n",
       "ffc24ecc-194a-422f-a33f-3582300123c8  0.000942  0.002272  0.001226  0.002537   \n",
       "ffc41881-3a5d-43a2-b285-f532ae22a89c  0.000197  0.000330  0.000127  0.000145   \n",
       "ffd5d5f5-8814-4f4c-9d3d-e3f79bd27406  0.000057  0.000749  0.001188  0.001050   \n",
       "ffe0a561-85df-4480-ba08-d42020f40c01  0.001836  0.003001  0.001470  0.001142   \n",
       "ffeeece9-0608-4826-b9eb-1be874476538  0.000299  0.000777  0.000988  0.003668   \n",
       "\n",
       "                                          4         5         6         7     \\\n",
       "00207b6d-3901-4f88-8fec-4ec9ce2e4019  0.000258  0.000532  0.000509  0.000468   \n",
       "00277f20-a6f3-40fc-b582-33795727a3f9  0.001851  0.003246  0.001229  0.000085   \n",
       "0043f2aa-7a23-4a9a-a83b-9237a365fc88  0.000957  0.000255  0.000062  0.000157   \n",
       "008c7f1a-a6ee-46f4-97ac-cbac4eacc5b3  0.001215  0.000276  0.000010  0.000050   \n",
       "009cec21-e6ca-4a1d-9309-0c028c0b3999  0.000146  0.000351  0.000530  0.000353   \n",
       "...                                        ...       ...       ...       ...   \n",
       "ffc24ecc-194a-422f-a33f-3582300123c8  0.002321  0.000647  0.000064  0.000131   \n",
       "ffc41881-3a5d-43a2-b285-f532ae22a89c  0.000244  0.000117  0.000251  0.000227   \n",
       "ffd5d5f5-8814-4f4c-9d3d-e3f79bd27406  0.000845  0.000298  0.000142  0.000517   \n",
       "ffe0a561-85df-4480-ba08-d42020f40c01  0.000667  0.000458  0.000034  0.000159   \n",
       "ffeeece9-0608-4826-b9eb-1be874476538  0.003509  0.000409  0.000029  0.000341   \n",
       "\n",
       "                                          8         9     ...      5990  \\\n",
       "00207b6d-3901-4f88-8fec-4ec9ce2e4019  0.000313  0.000611  ...  0.000038   \n",
       "00277f20-a6f3-40fc-b582-33795727a3f9  0.000024  0.000217  ...  0.000014   \n",
       "0043f2aa-7a23-4a9a-a83b-9237a365fc88  0.000886  0.001147  ...  0.000038   \n",
       "008c7f1a-a6ee-46f4-97ac-cbac4eacc5b3  0.000639  0.001339  ...  0.000021   \n",
       "009cec21-e6ca-4a1d-9309-0c028c0b3999  0.000031  0.000036  ...  0.000101   \n",
       "...                                        ...       ...  ...       ...   \n",
       "ffc24ecc-194a-422f-a33f-3582300123c8  0.001166  0.001645  ...  0.000022   \n",
       "ffc41881-3a5d-43a2-b285-f532ae22a89c  0.000221  0.000083  ...  0.000037   \n",
       "ffd5d5f5-8814-4f4c-9d3d-e3f79bd27406  0.003255  0.003269  ...  0.000021   \n",
       "ffe0a561-85df-4480-ba08-d42020f40c01  0.000939  0.000843  ...  0.000058   \n",
       "ffeeece9-0608-4826-b9eb-1be874476538  0.000851  0.001072  ...  0.000015   \n",
       "\n",
       "                                          5991      5992      5993      5994  \\\n",
       "00207b6d-3901-4f88-8fec-4ec9ce2e4019  0.000044  0.000026  0.000025  0.000019   \n",
       "00277f20-a6f3-40fc-b582-33795727a3f9  0.000013  0.000023  0.000014  0.000021   \n",
       "0043f2aa-7a23-4a9a-a83b-9237a365fc88  0.000046  0.000048  0.000084  0.000054   \n",
       "008c7f1a-a6ee-46f4-97ac-cbac4eacc5b3  0.000013  0.000017  0.000018  0.000004   \n",
       "009cec21-e6ca-4a1d-9309-0c028c0b3999  0.000084  0.000119  0.000061  0.000043   \n",
       "...                                        ...       ...       ...       ...   \n",
       "ffc24ecc-194a-422f-a33f-3582300123c8  0.000046  0.000058  0.000075  0.000088   \n",
       "ffc41881-3a5d-43a2-b285-f532ae22a89c  0.000045  0.000014  0.000007  0.000003   \n",
       "ffd5d5f5-8814-4f4c-9d3d-e3f79bd27406  0.000024  0.000052  0.000088  0.000054   \n",
       "ffe0a561-85df-4480-ba08-d42020f40c01  0.000079  0.000092  0.000086  0.000121   \n",
       "ffeeece9-0608-4826-b9eb-1be874476538  0.000017  0.000015  0.000013  0.000034   \n",
       "\n",
       "                                          5995      5996      5997      5998  \\\n",
       "00207b6d-3901-4f88-8fec-4ec9ce2e4019  0.000015  0.000007  0.000003  0.000032   \n",
       "00277f20-a6f3-40fc-b582-33795727a3f9  0.000034  0.000029  0.000026  0.000013   \n",
       "0043f2aa-7a23-4a9a-a83b-9237a365fc88  0.000051  0.000055  0.000044  0.000040   \n",
       "008c7f1a-a6ee-46f4-97ac-cbac4eacc5b3  0.000008  0.000037  0.000030  0.000033   \n",
       "009cec21-e6ca-4a1d-9309-0c028c0b3999  0.000050  0.000016  0.000003  0.000020   \n",
       "...                                        ...       ...       ...       ...   \n",
       "ffc24ecc-194a-422f-a33f-3582300123c8  0.000112  0.000065  0.000075  0.000100   \n",
       "ffc41881-3a5d-43a2-b285-f532ae22a89c  0.000015  0.000025  0.000024  0.000043   \n",
       "ffd5d5f5-8814-4f4c-9d3d-e3f79bd27406  0.000057  0.000073  0.000012  0.000023   \n",
       "ffe0a561-85df-4480-ba08-d42020f40c01  0.000078  0.000082  0.000104  0.000071   \n",
       "ffeeece9-0608-4826-b9eb-1be874476538  0.000051  0.000026  0.000019  0.000015   \n",
       "\n",
       "                                          5999  \n",
       "00207b6d-3901-4f88-8fec-4ec9ce2e4019  0.000031  \n",
       "00277f20-a6f3-40fc-b582-33795727a3f9  0.000022  \n",
       "0043f2aa-7a23-4a9a-a83b-9237a365fc88  0.000042  \n",
       "008c7f1a-a6ee-46f4-97ac-cbac4eacc5b3  0.000041  \n",
       "009cec21-e6ca-4a1d-9309-0c028c0b3999  0.000037  \n",
       "...                                        ...  \n",
       "ffc24ecc-194a-422f-a33f-3582300123c8  0.000129  \n",
       "ffc41881-3a5d-43a2-b285-f532ae22a89c  0.000022  \n",
       "ffd5d5f5-8814-4f4c-9d3d-e3f79bd27406  0.000006  \n",
       "ffe0a561-85df-4480-ba08-d42020f40c01  0.000087  \n",
       "ffeeece9-0608-4826-b9eb-1be874476538  0.000040  \n",
       "\n",
       "[2384 rows x 6000 columns]"
      ]
     },
     "execution_count": 7,
     "metadata": {},
     "output_type": "execute_result"
    }
   ],
   "source": [
    "spectra_df = pd.DataFrame(data=samples_spectra, index=all_samples)\n",
    "spectra_df"
   ]
  },
  {
   "cell_type": "code",
   "execution_count": 8,
   "id": "a1d3b92b-18fb-4732-881d-d11832bc18d9",
   "metadata": {
    "pycharm": {
     "name": "#%%\n"
    }
   },
   "outputs": [],
   "source": [
    "spectra_df.to_csv(\"../data/DRIAMS-B/spectra_binned_6000_2018_reprocessed.csv\")"
   ]
  },
  {
   "cell_type": "code",
   "execution_count": null,
   "id": "1d9adf3c-a330-424b-890a-2cf5e24a38c6",
   "metadata": {
    "pycharm": {
     "name": "#%%\n"
    }
   },
   "outputs": [],
   "source": []
  }
 ],
 "metadata": {
  "kernelspec": {
   "display_name": "Python 3 (ipykernel)",
   "language": "python",
   "name": "python3"
  },
  "language_info": {
   "codemirror_mode": {
    "name": "ipython",
    "version": 3
   },
   "file_extension": ".py",
   "mimetype": "text/x-python",
   "name": "python",
   "nbconvert_exporter": "python",
   "pygments_lexer": "ipython3",
   "version": "3.9.12"
  }
 },
 "nbformat": 4,
 "nbformat_minor": 5
}