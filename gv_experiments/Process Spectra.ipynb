{
 "cells": [
  {
   "cell_type": "code",
   "execution_count": 11,
   "id": "a04a3151-fb26-4a81-918a-fb6402def08c",
   "metadata": {},
   "outputs": [],
   "source": [
    "import pandas as pd\n",
    "import os\n",
    "import numpy as np\n",
    "from tqdm.notebook import tqdm"
   ],
   "metadata": {
    "collapsed": false,
    "pycharm": {
     "name": "#%%\n"
    }
   }
  },
  {
   "cell_type": "markdown",
   "source": [
    "# DRIAMS B"
   ],
   "metadata": {
    "collapsed": false,
    "pycharm": {
     "name": "#%% md\n"
    }
   }
  },
  {
   "cell_type": "code",
   "execution_count": null,
   "outputs": [],
   "source": [
    "long_table = pd.read_csv(\"../processed_data/DRIAMS_combined_long_table.csv\")\n",
    "long_table = long_table[long_table[\"dataset\"]==\"B\"].reset_index()\n",
    "long_table"
   ],
   "metadata": {
    "collapsed": false,
    "pycharm": {
     "name": "#%%\n"
    }
   }
  },
  {
   "cell_type": "code",
   "execution_count": null,
   "outputs": [],
   "source": [
    "all_samples = sorted(list(long_table[\"sample_id\"].unique()))\n",
    "print(len(all_samples))\n",
    "all_samples[:10]"
   ],
   "metadata": {
    "collapsed": false,
    "pycharm": {
     "name": "#%%\n"
    }
   }
  },
  {
   "cell_type": "code",
   "execution_count": null,
   "outputs": [],
   "source": [
    "samples_spectra = []\n",
    "\n",
    "for i, sample_id in tqdm(enumerate(all_samples)):\n",
    "    spectrum = pd.read_csv(f\"../data/DRIAMS-B/binned_6000/2018/{sample_id}.txt\", sep=\" \", index_col=0)\n",
    "    samples_spectra.append(spectrum.values.flatten())\n",
    "samples_spectra = np.vstack(samples_spectra)\n",
    "samples_spectra[0]"
   ],
   "metadata": {
    "collapsed": false,
    "pycharm": {
     "name": "#%%\n"
    }
   }
  },
  {
   "cell_type": "code",
   "execution_count": null,
   "outputs": [],
   "source": [
    "spectra_df = pd.DataFrame(data=samples_spectra, index=all_samples)\n",
    "spectra_df"
   ],
   "metadata": {
    "collapsed": false,
    "pycharm": {
     "name": "#%%\n"
    }
   }
  },
  {
   "cell_type": "code",
   "execution_count": null,
   "outputs": [],
   "source": [
    "spectra_df.to_csv(\"../data/DRIAMS-B/spectra_binned_6000_2018_reprocessed.csv\")"
   ],
   "metadata": {
    "collapsed": false,
    "pycharm": {
     "name": "#%%\n"
    }
   }
  },
  {
   "cell_type": "code",
   "execution_count": null,
   "outputs": [],
   "source": [],
   "metadata": {
    "collapsed": false,
    "pycharm": {
     "name": "#%%\n"
    }
   }
  },
  {
   "cell_type": "markdown",
   "id": "ccf6370d-b3a2-43f1-bad1-8339b9f260c8",
   "metadata": {
    "pycharm": {
     "name": "#%% md\n"
    }
   },
   "source": [
    "# DRIAMS B"
   ]
  },
  {
   "cell_type": "code",
   "execution_count": 12,
   "id": "0a078300-7ee3-4879-bc33-e9ca9a88e261",
   "metadata": {
    "pycharm": {
     "name": "#%%\n"
    }
   },
   "outputs": [
    {
     "data": {
      "text/html": [
       "<div>\n",
       "<style scoped>\n",
       "    .dataframe tbody tr th:only-of-type {\n",
       "        vertical-align: middle;\n",
       "    }\n",
       "\n",
       "    .dataframe tbody tr th {\n",
       "        vertical-align: top;\n",
       "    }\n",
       "\n",
       "    .dataframe thead th {\n",
       "        text-align: right;\n",
       "    }\n",
       "</style>\n",
       "<table border=\"1\" class=\"dataframe\">\n",
       "  <thead>\n",
       "    <tr style=\"text-align: right;\">\n",
       "      <th></th>\n",
       "      <th>index</th>\n",
       "      <th>species</th>\n",
       "      <th>sample_id</th>\n",
       "      <th>drug</th>\n",
       "      <th>response</th>\n",
       "      <th>dataset</th>\n",
       "    </tr>\n",
       "  </thead>\n",
       "  <tbody>\n",
       "    <tr>\n",
       "      <th>0</th>\n",
       "      <td>554201</td>\n",
       "      <td>Escherichia coli</td>\n",
       "      <td>725696ba-1be2-4130-b357-400037987f5c_3312</td>\n",
       "      <td>Ampicillin</td>\n",
       "      <td>1</td>\n",
       "      <td>D</td>\n",
       "    </tr>\n",
       "    <tr>\n",
       "      <th>1</th>\n",
       "      <td>554202</td>\n",
       "      <td>Escherichia coli</td>\n",
       "      <td>725696ba-1be2-4130-b357-400037987f5c_3312</td>\n",
       "      <td>Amikacin</td>\n",
       "      <td>0</td>\n",
       "      <td>D</td>\n",
       "    </tr>\n",
       "    <tr>\n",
       "      <th>2</th>\n",
       "      <td>554203</td>\n",
       "      <td>Escherichia coli</td>\n",
       "      <td>725696ba-1be2-4130-b357-400037987f5c_3312</td>\n",
       "      <td>Ceftazidime</td>\n",
       "      <td>0</td>\n",
       "      <td>D</td>\n",
       "    </tr>\n",
       "    <tr>\n",
       "      <th>3</th>\n",
       "      <td>554204</td>\n",
       "      <td>Escherichia coli</td>\n",
       "      <td>725696ba-1be2-4130-b357-400037987f5c_3312</td>\n",
       "      <td>Ciprofloxacin</td>\n",
       "      <td>1</td>\n",
       "      <td>D</td>\n",
       "    </tr>\n",
       "    <tr>\n",
       "      <th>4</th>\n",
       "      <td>554205</td>\n",
       "      <td>Escherichia coli</td>\n",
       "      <td>725696ba-1be2-4130-b357-400037987f5c_3312</td>\n",
       "      <td>Ceftriaxone</td>\n",
       "      <td>0</td>\n",
       "      <td>D</td>\n",
       "    </tr>\n",
       "    <tr>\n",
       "      <th>...</th>\n",
       "      <td>...</td>\n",
       "      <td>...</td>\n",
       "      <td>...</td>\n",
       "      <td>...</td>\n",
       "      <td>...</td>\n",
       "      <td>...</td>\n",
       "    </tr>\n",
       "    <tr>\n",
       "      <th>98565</th>\n",
       "      <td>652766</td>\n",
       "      <td>Staphylococcus aureus</td>\n",
       "      <td>08bc8410-51ec-46d7-ac7b-afba9e6ba2cd_3313</td>\n",
       "      <td>Linezolid</td>\n",
       "      <td>0</td>\n",
       "      <td>D</td>\n",
       "    </tr>\n",
       "    <tr>\n",
       "      <th>98566</th>\n",
       "      <td>652767</td>\n",
       "      <td>Staphylococcus aureus</td>\n",
       "      <td>08bc8410-51ec-46d7-ac7b-afba9e6ba2cd_3313</td>\n",
       "      <td>Rifampicin</td>\n",
       "      <td>0</td>\n",
       "      <td>D</td>\n",
       "    </tr>\n",
       "    <tr>\n",
       "      <th>98567</th>\n",
       "      <td>652768</td>\n",
       "      <td>Staphylococcus aureus</td>\n",
       "      <td>08bc8410-51ec-46d7-ac7b-afba9e6ba2cd_3313</td>\n",
       "      <td>Tetracycline</td>\n",
       "      <td>0</td>\n",
       "      <td>D</td>\n",
       "    </tr>\n",
       "    <tr>\n",
       "      <th>98568</th>\n",
       "      <td>652769</td>\n",
       "      <td>Staphylococcus aureus</td>\n",
       "      <td>08bc8410-51ec-46d7-ac7b-afba9e6ba2cd_3313</td>\n",
       "      <td>Tigecycline</td>\n",
       "      <td>0</td>\n",
       "      <td>D</td>\n",
       "    </tr>\n",
       "    <tr>\n",
       "      <th>98569</th>\n",
       "      <td>652770</td>\n",
       "      <td>Staphylococcus aureus</td>\n",
       "      <td>08bc8410-51ec-46d7-ac7b-afba9e6ba2cd_3313</td>\n",
       "      <td>Vancomycin</td>\n",
       "      <td>0</td>\n",
       "      <td>D</td>\n",
       "    </tr>\n",
       "  </tbody>\n",
       "</table>\n",
       "<p>98570 rows × 6 columns</p>\n",
       "</div>"
      ],
      "text/plain": [
       "        index                species  \\\n",
       "0      554201       Escherichia coli   \n",
       "1      554202       Escherichia coli   \n",
       "2      554203       Escherichia coli   \n",
       "3      554204       Escherichia coli   \n",
       "4      554205       Escherichia coli   \n",
       "...       ...                    ...   \n",
       "98565  652766  Staphylococcus aureus   \n",
       "98566  652767  Staphylococcus aureus   \n",
       "98567  652768  Staphylococcus aureus   \n",
       "98568  652769  Staphylococcus aureus   \n",
       "98569  652770  Staphylococcus aureus   \n",
       "\n",
       "                                       sample_id           drug  response  \\\n",
       "0      725696ba-1be2-4130-b357-400037987f5c_3312     Ampicillin         1   \n",
       "1      725696ba-1be2-4130-b357-400037987f5c_3312       Amikacin         0   \n",
       "2      725696ba-1be2-4130-b357-400037987f5c_3312    Ceftazidime         0   \n",
       "3      725696ba-1be2-4130-b357-400037987f5c_3312  Ciprofloxacin         1   \n",
       "4      725696ba-1be2-4130-b357-400037987f5c_3312    Ceftriaxone         0   \n",
       "...                                          ...            ...       ...   \n",
       "98565  08bc8410-51ec-46d7-ac7b-afba9e6ba2cd_3313      Linezolid         0   \n",
       "98566  08bc8410-51ec-46d7-ac7b-afba9e6ba2cd_3313     Rifampicin         0   \n",
       "98567  08bc8410-51ec-46d7-ac7b-afba9e6ba2cd_3313   Tetracycline         0   \n",
       "98568  08bc8410-51ec-46d7-ac7b-afba9e6ba2cd_3313    Tigecycline         0   \n",
       "98569  08bc8410-51ec-46d7-ac7b-afba9e6ba2cd_3313     Vancomycin         0   \n",
       "\n",
       "      dataset  \n",
       "0           D  \n",
       "1           D  \n",
       "2           D  \n",
       "3           D  \n",
       "4           D  \n",
       "...       ...  \n",
       "98565       D  \n",
       "98566       D  \n",
       "98567       D  \n",
       "98568       D  \n",
       "98569       D  \n",
       "\n",
       "[98570 rows x 6 columns]"
      ]
     },
     "execution_count": 12,
     "metadata": {},
     "output_type": "execute_result"
    }
   ],
   "source": [
    "long_table = pd.read_csv(\"../processed_data/DRIAMS_combined_long_table.csv\")\n",
    "long_table = long_table[long_table[\"dataset\"]==\"D\"].reset_index()\n",
    "long_table"
   ]
  },
  {
   "cell_type": "code",
   "execution_count": null,
   "id": "9d9020f4-0957-43eb-8818-2a408156b07b",
   "metadata": {},
   "outputs": [],
   "source": []
  },
  {
   "cell_type": "code",
   "execution_count": 3,
   "id": "fa141041-240d-42e2-942d-a4b2ac44b004",
   "metadata": {
    "pycharm": {
     "name": "#%%\n"
    }
   },
   "outputs": [
    {
     "name": "stdout",
     "output_type": "stream",
     "text": [
      "38310\n"
     ]
    },
    {
     "data": {
      "text/plain": [
       "['00012236-6e95-4810-b400-fa88c76c6329_MALDI1',\n",
       " '0002ec87-db65-42fb-910e-ebc5fe4429cf_MALDI2',\n",
       " '0007d90e-941b-47bc-bf3e-d2fdd776a575',\n",
       " '000a2090-67fb-4556-8d34-3b758508be98',\n",
       " '000df274-a7fc-4c35-abd2-ab6978ce2fa3_MALDI1',\n",
       " '000eaed7-d01a-4830-89db-53d9e162b642',\n",
       " '000eb0e2-2f53-48dc-a6da-28ba045ace54',\n",
       " '00133b15-608d-4f38-b760-abf73e5ea637_MALDI1',\n",
       " '001456b3-af55-44ac-9525-c99beae19caf_MALDI1',\n",
       " '0014bb90-16a2-4c55-ad1d-cea35935a6e5_MALDI1']"
      ]
     },
     "execution_count": 3,
     "metadata": {},
     "output_type": "execute_result"
    }
   ],
   "source": [
    "all_samples = sorted(list(long_table[\"sample_id\"].unique()))\n",
    "print(len(all_samples))\n",
    "all_samples[:10]"
   ]
  },
  {
   "cell_type": "code",
   "execution_count": 4,
   "id": "dc8b1558-2478-4704-b4af-8a576d792b5f",
   "metadata": {
    "pycharm": {
     "name": "#%%\n"
    }
   },
   "outputs": [
    {
     "data": {
      "application/vnd.jupyter.widget-view+json": {
       "model_id": "6e62c74e36b3419398089d0d15718296",
       "version_major": 2,
       "version_minor": 0
      },
      "text/plain": [
       "0it [00:00, ?it/s]"
      ]
     },
     "metadata": {},
     "output_type": "display_data"
    },
    {
     "data": {
      "text/html": [
       "<div>\n",
       "<style scoped>\n",
       "    .dataframe tbody tr th:only-of-type {\n",
       "        vertical-align: middle;\n",
       "    }\n",
       "\n",
       "    .dataframe tbody tr th {\n",
       "        vertical-align: top;\n",
       "    }\n",
       "\n",
       "    .dataframe thead th {\n",
       "        text-align: right;\n",
       "    }\n",
       "</style>\n",
       "<table border=\"1\" class=\"dataframe\">\n",
       "  <thead>\n",
       "    <tr style=\"text-align: right;\">\n",
       "      <th></th>\n",
       "      <th>0</th>\n",
       "      <th>1</th>\n",
       "      <th>2</th>\n",
       "      <th>3</th>\n",
       "      <th>4</th>\n",
       "      <th>5</th>\n",
       "      <th>6</th>\n",
       "      <th>7</th>\n",
       "      <th>8</th>\n",
       "      <th>9</th>\n",
       "      <th>...</th>\n",
       "      <th>5990</th>\n",
       "      <th>5991</th>\n",
       "      <th>5992</th>\n",
       "      <th>5993</th>\n",
       "      <th>5994</th>\n",
       "      <th>5995</th>\n",
       "      <th>5996</th>\n",
       "      <th>5997</th>\n",
       "      <th>5998</th>\n",
       "      <th>5999</th>\n",
       "    </tr>\n",
       "  </thead>\n",
       "  <tbody>\n",
       "    <tr>\n",
       "      <th>00012236-6e95-4810-b400-fa88c76c6329_MALDI1</th>\n",
       "      <td>0.000588</td>\n",
       "      <td>8.953341e-04</td>\n",
       "      <td>0.000698</td>\n",
       "      <td>0.000091</td>\n",
       "      <td>0.000100</td>\n",
       "      <td>0.000466</td>\n",
       "      <td>0.000521</td>\n",
       "      <td>0.000880</td>\n",
       "      <td>0.000829</td>\n",
       "      <td>0.000251</td>\n",
       "      <td>...</td>\n",
       "      <td>0.000024</td>\n",
       "      <td>0.000031</td>\n",
       "      <td>0.000019</td>\n",
       "      <td>0.000029</td>\n",
       "      <td>0.000005</td>\n",
       "      <td>0.000003</td>\n",
       "      <td>2.410161e-05</td>\n",
       "      <td>0.000058</td>\n",
       "      <td>0.000047</td>\n",
       "      <td>0.000052</td>\n",
       "    </tr>\n",
       "    <tr>\n",
       "      <th>0002ec87-db65-42fb-910e-ebc5fe4429cf_MALDI2</th>\n",
       "      <td>0.000000</td>\n",
       "      <td>1.682564e-07</td>\n",
       "      <td>0.000161</td>\n",
       "      <td>0.000579</td>\n",
       "      <td>0.000629</td>\n",
       "      <td>0.000593</td>\n",
       "      <td>0.000429</td>\n",
       "      <td>0.000143</td>\n",
       "      <td>0.000566</td>\n",
       "      <td>0.000489</td>\n",
       "      <td>...</td>\n",
       "      <td>0.000000</td>\n",
       "      <td>0.000000</td>\n",
       "      <td>0.000000</td>\n",
       "      <td>0.000000</td>\n",
       "      <td>0.000000</td>\n",
       "      <td>0.000000</td>\n",
       "      <td>0.000000e+00</td>\n",
       "      <td>0.000000</td>\n",
       "      <td>0.000000</td>\n",
       "      <td>0.000000</td>\n",
       "    </tr>\n",
       "    <tr>\n",
       "      <th>0007d90e-941b-47bc-bf3e-d2fdd776a575</th>\n",
       "      <td>0.000521</td>\n",
       "      <td>9.581108e-04</td>\n",
       "      <td>0.000613</td>\n",
       "      <td>0.000641</td>\n",
       "      <td>0.000587</td>\n",
       "      <td>0.000744</td>\n",
       "      <td>0.000548</td>\n",
       "      <td>0.000119</td>\n",
       "      <td>0.000352</td>\n",
       "      <td>0.000169</td>\n",
       "      <td>...</td>\n",
       "      <td>0.000076</td>\n",
       "      <td>0.000094</td>\n",
       "      <td>0.000142</td>\n",
       "      <td>0.000080</td>\n",
       "      <td>0.000063</td>\n",
       "      <td>0.000048</td>\n",
       "      <td>7.315975e-05</td>\n",
       "      <td>0.000037</td>\n",
       "      <td>0.000048</td>\n",
       "      <td>0.000040</td>\n",
       "    </tr>\n",
       "    <tr>\n",
       "      <th>000a2090-67fb-4556-8d34-3b758508be98</th>\n",
       "      <td>0.000317</td>\n",
       "      <td>2.280015e-04</td>\n",
       "      <td>0.000118</td>\n",
       "      <td>0.000569</td>\n",
       "      <td>0.000558</td>\n",
       "      <td>0.000673</td>\n",
       "      <td>0.000416</td>\n",
       "      <td>0.000051</td>\n",
       "      <td>0.000386</td>\n",
       "      <td>0.000541</td>\n",
       "      <td>...</td>\n",
       "      <td>0.000084</td>\n",
       "      <td>0.000081</td>\n",
       "      <td>0.000061</td>\n",
       "      <td>0.000093</td>\n",
       "      <td>0.000030</td>\n",
       "      <td>0.000014</td>\n",
       "      <td>8.158907e-07</td>\n",
       "      <td>0.000006</td>\n",
       "      <td>0.000009</td>\n",
       "      <td>0.000019</td>\n",
       "    </tr>\n",
       "    <tr>\n",
       "      <th>000df274-a7fc-4c35-abd2-ab6978ce2fa3_MALDI1</th>\n",
       "      <td>0.000343</td>\n",
       "      <td>7.655609e-04</td>\n",
       "      <td>0.001182</td>\n",
       "      <td>0.000552</td>\n",
       "      <td>0.000763</td>\n",
       "      <td>0.000756</td>\n",
       "      <td>0.000161</td>\n",
       "      <td>0.001907</td>\n",
       "      <td>0.001341</td>\n",
       "      <td>0.000277</td>\n",
       "      <td>...</td>\n",
       "      <td>0.000068</td>\n",
       "      <td>0.000078</td>\n",
       "      <td>0.000052</td>\n",
       "      <td>0.000040</td>\n",
       "      <td>0.000030</td>\n",
       "      <td>0.000021</td>\n",
       "      <td>1.633958e-05</td>\n",
       "      <td>0.000025</td>\n",
       "      <td>0.000019</td>\n",
       "      <td>0.000005</td>\n",
       "    </tr>\n",
       "    <tr>\n",
       "      <th>...</th>\n",
       "      <td>...</td>\n",
       "      <td>...</td>\n",
       "      <td>...</td>\n",
       "      <td>...</td>\n",
       "      <td>...</td>\n",
       "      <td>...</td>\n",
       "      <td>...</td>\n",
       "      <td>...</td>\n",
       "      <td>...</td>\n",
       "      <td>...</td>\n",
       "      <td>...</td>\n",
       "      <td>...</td>\n",
       "      <td>...</td>\n",
       "      <td>...</td>\n",
       "      <td>...</td>\n",
       "      <td>...</td>\n",
       "      <td>...</td>\n",
       "      <td>...</td>\n",
       "      <td>...</td>\n",
       "      <td>...</td>\n",
       "      <td>...</td>\n",
       "    </tr>\n",
       "    <tr>\n",
       "      <th>fff73688-bed8-4cda-835b-d107b366d3cd_MALDI1</th>\n",
       "      <td>0.000451</td>\n",
       "      <td>6.264552e-04</td>\n",
       "      <td>0.000560</td>\n",
       "      <td>0.000397</td>\n",
       "      <td>0.000081</td>\n",
       "      <td>0.000334</td>\n",
       "      <td>0.000338</td>\n",
       "      <td>0.000331</td>\n",
       "      <td>0.000157</td>\n",
       "      <td>0.000192</td>\n",
       "      <td>...</td>\n",
       "      <td>0.000065</td>\n",
       "      <td>0.000027</td>\n",
       "      <td>0.000033</td>\n",
       "      <td>0.000043</td>\n",
       "      <td>0.000100</td>\n",
       "      <td>0.000075</td>\n",
       "      <td>6.097621e-05</td>\n",
       "      <td>0.000055</td>\n",
       "      <td>0.000095</td>\n",
       "      <td>0.000053</td>\n",
       "    </tr>\n",
       "    <tr>\n",
       "      <th>fff813bc-d231-4d38-bf31-a86578200060_MALDI1</th>\n",
       "      <td>0.000267</td>\n",
       "      <td>7.497015e-04</td>\n",
       "      <td>0.000662</td>\n",
       "      <td>0.000278</td>\n",
       "      <td>0.002022</td>\n",
       "      <td>0.001584</td>\n",
       "      <td>0.001018</td>\n",
       "      <td>0.001066</td>\n",
       "      <td>0.001022</td>\n",
       "      <td>0.000289</td>\n",
       "      <td>...</td>\n",
       "      <td>0.000055</td>\n",
       "      <td>0.000044</td>\n",
       "      <td>0.000035</td>\n",
       "      <td>0.000036</td>\n",
       "      <td>0.000068</td>\n",
       "      <td>0.000053</td>\n",
       "      <td>5.662105e-05</td>\n",
       "      <td>0.000049</td>\n",
       "      <td>0.000043</td>\n",
       "      <td>0.000018</td>\n",
       "    </tr>\n",
       "    <tr>\n",
       "      <th>fffa8722-f4cf-4ab4-ab69-d2bbb53fb588_MALDI1</th>\n",
       "      <td>0.000117</td>\n",
       "      <td>3.088412e-04</td>\n",
       "      <td>0.001005</td>\n",
       "      <td>0.000576</td>\n",
       "      <td>0.000352</td>\n",
       "      <td>0.000659</td>\n",
       "      <td>0.000212</td>\n",
       "      <td>0.000502</td>\n",
       "      <td>0.000350</td>\n",
       "      <td>0.000127</td>\n",
       "      <td>...</td>\n",
       "      <td>0.000018</td>\n",
       "      <td>0.000002</td>\n",
       "      <td>0.000006</td>\n",
       "      <td>0.000024</td>\n",
       "      <td>0.000060</td>\n",
       "      <td>0.000049</td>\n",
       "      <td>4.359424e-05</td>\n",
       "      <td>0.000039</td>\n",
       "      <td>0.000033</td>\n",
       "      <td>0.000019</td>\n",
       "    </tr>\n",
       "    <tr>\n",
       "      <th>fffbb2a5-680e-4e4a-aec5-64be6169ff90</th>\n",
       "      <td>0.000893</td>\n",
       "      <td>2.153018e-03</td>\n",
       "      <td>0.000977</td>\n",
       "      <td>0.000419</td>\n",
       "      <td>0.000127</td>\n",
       "      <td>0.000988</td>\n",
       "      <td>0.001079</td>\n",
       "      <td>0.000428</td>\n",
       "      <td>0.000303</td>\n",
       "      <td>0.000197</td>\n",
       "      <td>...</td>\n",
       "      <td>0.000104</td>\n",
       "      <td>0.000088</td>\n",
       "      <td>0.000112</td>\n",
       "      <td>0.000113</td>\n",
       "      <td>0.000189</td>\n",
       "      <td>0.000119</td>\n",
       "      <td>1.205009e-04</td>\n",
       "      <td>0.000121</td>\n",
       "      <td>0.000174</td>\n",
       "      <td>0.000129</td>\n",
       "    </tr>\n",
       "    <tr>\n",
       "      <th>ffff5b14-794d-4996-b8a3-d5d80477e954</th>\n",
       "      <td>0.000534</td>\n",
       "      <td>6.680861e-05</td>\n",
       "      <td>0.000232</td>\n",
       "      <td>0.000466</td>\n",
       "      <td>0.000613</td>\n",
       "      <td>0.000475</td>\n",
       "      <td>0.000193</td>\n",
       "      <td>0.000096</td>\n",
       "      <td>0.000144</td>\n",
       "      <td>0.000538</td>\n",
       "      <td>...</td>\n",
       "      <td>0.000074</td>\n",
       "      <td>0.000072</td>\n",
       "      <td>0.000101</td>\n",
       "      <td>0.000093</td>\n",
       "      <td>0.000120</td>\n",
       "      <td>0.000134</td>\n",
       "      <td>1.819589e-04</td>\n",
       "      <td>0.000101</td>\n",
       "      <td>0.000086</td>\n",
       "      <td>0.000065</td>\n",
       "    </tr>\n",
       "  </tbody>\n",
       "</table>\n",
       "<p>38310 rows × 6000 columns</p>\n",
       "</div>"
      ],
      "text/plain": [
       "                                                 0             1         2     \\\n",
       "00012236-6e95-4810-b400-fa88c76c6329_MALDI1  0.000588  8.953341e-04  0.000698   \n",
       "0002ec87-db65-42fb-910e-ebc5fe4429cf_MALDI2  0.000000  1.682564e-07  0.000161   \n",
       "0007d90e-941b-47bc-bf3e-d2fdd776a575         0.000521  9.581108e-04  0.000613   \n",
       "000a2090-67fb-4556-8d34-3b758508be98         0.000317  2.280015e-04  0.000118   \n",
       "000df274-a7fc-4c35-abd2-ab6978ce2fa3_MALDI1  0.000343  7.655609e-04  0.001182   \n",
       "...                                               ...           ...       ...   \n",
       "fff73688-bed8-4cda-835b-d107b366d3cd_MALDI1  0.000451  6.264552e-04  0.000560   \n",
       "fff813bc-d231-4d38-bf31-a86578200060_MALDI1  0.000267  7.497015e-04  0.000662   \n",
       "fffa8722-f4cf-4ab4-ab69-d2bbb53fb588_MALDI1  0.000117  3.088412e-04  0.001005   \n",
       "fffbb2a5-680e-4e4a-aec5-64be6169ff90         0.000893  2.153018e-03  0.000977   \n",
       "ffff5b14-794d-4996-b8a3-d5d80477e954         0.000534  6.680861e-05  0.000232   \n",
       "\n",
       "                                                 3         4         5     \\\n",
       "00012236-6e95-4810-b400-fa88c76c6329_MALDI1  0.000091  0.000100  0.000466   \n",
       "0002ec87-db65-42fb-910e-ebc5fe4429cf_MALDI2  0.000579  0.000629  0.000593   \n",
       "0007d90e-941b-47bc-bf3e-d2fdd776a575         0.000641  0.000587  0.000744   \n",
       "000a2090-67fb-4556-8d34-3b758508be98         0.000569  0.000558  0.000673   \n",
       "000df274-a7fc-4c35-abd2-ab6978ce2fa3_MALDI1  0.000552  0.000763  0.000756   \n",
       "...                                               ...       ...       ...   \n",
       "fff73688-bed8-4cda-835b-d107b366d3cd_MALDI1  0.000397  0.000081  0.000334   \n",
       "fff813bc-d231-4d38-bf31-a86578200060_MALDI1  0.000278  0.002022  0.001584   \n",
       "fffa8722-f4cf-4ab4-ab69-d2bbb53fb588_MALDI1  0.000576  0.000352  0.000659   \n",
       "fffbb2a5-680e-4e4a-aec5-64be6169ff90         0.000419  0.000127  0.000988   \n",
       "ffff5b14-794d-4996-b8a3-d5d80477e954         0.000466  0.000613  0.000475   \n",
       "\n",
       "                                                 6         7         8     \\\n",
       "00012236-6e95-4810-b400-fa88c76c6329_MALDI1  0.000521  0.000880  0.000829   \n",
       "0002ec87-db65-42fb-910e-ebc5fe4429cf_MALDI2  0.000429  0.000143  0.000566   \n",
       "0007d90e-941b-47bc-bf3e-d2fdd776a575         0.000548  0.000119  0.000352   \n",
       "000a2090-67fb-4556-8d34-3b758508be98         0.000416  0.000051  0.000386   \n",
       "000df274-a7fc-4c35-abd2-ab6978ce2fa3_MALDI1  0.000161  0.001907  0.001341   \n",
       "...                                               ...       ...       ...   \n",
       "fff73688-bed8-4cda-835b-d107b366d3cd_MALDI1  0.000338  0.000331  0.000157   \n",
       "fff813bc-d231-4d38-bf31-a86578200060_MALDI1  0.001018  0.001066  0.001022   \n",
       "fffa8722-f4cf-4ab4-ab69-d2bbb53fb588_MALDI1  0.000212  0.000502  0.000350   \n",
       "fffbb2a5-680e-4e4a-aec5-64be6169ff90         0.001079  0.000428  0.000303   \n",
       "ffff5b14-794d-4996-b8a3-d5d80477e954         0.000193  0.000096  0.000144   \n",
       "\n",
       "                                                 9     ...      5990  \\\n",
       "00012236-6e95-4810-b400-fa88c76c6329_MALDI1  0.000251  ...  0.000024   \n",
       "0002ec87-db65-42fb-910e-ebc5fe4429cf_MALDI2  0.000489  ...  0.000000   \n",
       "0007d90e-941b-47bc-bf3e-d2fdd776a575         0.000169  ...  0.000076   \n",
       "000a2090-67fb-4556-8d34-3b758508be98         0.000541  ...  0.000084   \n",
       "000df274-a7fc-4c35-abd2-ab6978ce2fa3_MALDI1  0.000277  ...  0.000068   \n",
       "...                                               ...  ...       ...   \n",
       "fff73688-bed8-4cda-835b-d107b366d3cd_MALDI1  0.000192  ...  0.000065   \n",
       "fff813bc-d231-4d38-bf31-a86578200060_MALDI1  0.000289  ...  0.000055   \n",
       "fffa8722-f4cf-4ab4-ab69-d2bbb53fb588_MALDI1  0.000127  ...  0.000018   \n",
       "fffbb2a5-680e-4e4a-aec5-64be6169ff90         0.000197  ...  0.000104   \n",
       "ffff5b14-794d-4996-b8a3-d5d80477e954         0.000538  ...  0.000074   \n",
       "\n",
       "                                                 5991      5992      5993  \\\n",
       "00012236-6e95-4810-b400-fa88c76c6329_MALDI1  0.000031  0.000019  0.000029   \n",
       "0002ec87-db65-42fb-910e-ebc5fe4429cf_MALDI2  0.000000  0.000000  0.000000   \n",
       "0007d90e-941b-47bc-bf3e-d2fdd776a575         0.000094  0.000142  0.000080   \n",
       "000a2090-67fb-4556-8d34-3b758508be98         0.000081  0.000061  0.000093   \n",
       "000df274-a7fc-4c35-abd2-ab6978ce2fa3_MALDI1  0.000078  0.000052  0.000040   \n",
       "...                                               ...       ...       ...   \n",
       "fff73688-bed8-4cda-835b-d107b366d3cd_MALDI1  0.000027  0.000033  0.000043   \n",
       "fff813bc-d231-4d38-bf31-a86578200060_MALDI1  0.000044  0.000035  0.000036   \n",
       "fffa8722-f4cf-4ab4-ab69-d2bbb53fb588_MALDI1  0.000002  0.000006  0.000024   \n",
       "fffbb2a5-680e-4e4a-aec5-64be6169ff90         0.000088  0.000112  0.000113   \n",
       "ffff5b14-794d-4996-b8a3-d5d80477e954         0.000072  0.000101  0.000093   \n",
       "\n",
       "                                                 5994      5995          5996  \\\n",
       "00012236-6e95-4810-b400-fa88c76c6329_MALDI1  0.000005  0.000003  2.410161e-05   \n",
       "0002ec87-db65-42fb-910e-ebc5fe4429cf_MALDI2  0.000000  0.000000  0.000000e+00   \n",
       "0007d90e-941b-47bc-bf3e-d2fdd776a575         0.000063  0.000048  7.315975e-05   \n",
       "000a2090-67fb-4556-8d34-3b758508be98         0.000030  0.000014  8.158907e-07   \n",
       "000df274-a7fc-4c35-abd2-ab6978ce2fa3_MALDI1  0.000030  0.000021  1.633958e-05   \n",
       "...                                               ...       ...           ...   \n",
       "fff73688-bed8-4cda-835b-d107b366d3cd_MALDI1  0.000100  0.000075  6.097621e-05   \n",
       "fff813bc-d231-4d38-bf31-a86578200060_MALDI1  0.000068  0.000053  5.662105e-05   \n",
       "fffa8722-f4cf-4ab4-ab69-d2bbb53fb588_MALDI1  0.000060  0.000049  4.359424e-05   \n",
       "fffbb2a5-680e-4e4a-aec5-64be6169ff90         0.000189  0.000119  1.205009e-04   \n",
       "ffff5b14-794d-4996-b8a3-d5d80477e954         0.000120  0.000134  1.819589e-04   \n",
       "\n",
       "                                                 5997      5998      5999  \n",
       "00012236-6e95-4810-b400-fa88c76c6329_MALDI1  0.000058  0.000047  0.000052  \n",
       "0002ec87-db65-42fb-910e-ebc5fe4429cf_MALDI2  0.000000  0.000000  0.000000  \n",
       "0007d90e-941b-47bc-bf3e-d2fdd776a575         0.000037  0.000048  0.000040  \n",
       "000a2090-67fb-4556-8d34-3b758508be98         0.000006  0.000009  0.000019  \n",
       "000df274-a7fc-4c35-abd2-ab6978ce2fa3_MALDI1  0.000025  0.000019  0.000005  \n",
       "...                                               ...       ...       ...  \n",
       "fff73688-bed8-4cda-835b-d107b366d3cd_MALDI1  0.000055  0.000095  0.000053  \n",
       "fff813bc-d231-4d38-bf31-a86578200060_MALDI1  0.000049  0.000043  0.000018  \n",
       "fffa8722-f4cf-4ab4-ab69-d2bbb53fb588_MALDI1  0.000039  0.000033  0.000019  \n",
       "fffbb2a5-680e-4e4a-aec5-64be6169ff90         0.000121  0.000174  0.000129  \n",
       "ffff5b14-794d-4996-b8a3-d5d80477e954         0.000101  0.000086  0.000065  \n",
       "\n",
       "[38310 rows x 6000 columns]"
      ]
     },
     "execution_count": 4,
     "metadata": {},
     "output_type": "execute_result"
    }
   ],
   "source": [
    "samples_spectra = []\n",
    "\n",
    "for i, sample_id in tqdm(enumerate(all_samples)):\n",
    "    spectrum = None\n",
    "    for year in [\"2015\", \"2016\", \"2017\", \"2018\"]:\n",
    "        if not os.path.exists(f\"../data/DRIAMS-A/binned_6000/{year}/{sample_id}.txt\"):\n",
    "            continue\n",
    "        spectrum = pd.read_csv(f\"../data/DRIAMS-A/binned_6000/{year}/{sample_id}.txt\", sep=\" \", index_col=0)\n",
    "        break\n",
    "    if spectrum is None:\n",
    "        continue\n",
    "    samples_spectra.append(spectrum.values.flatten())\n",
    "samples_spectra = np.vstack(samples_spectra)\n",
    "spectra_df = pd.DataFrame(data=samples_spectra, index=all_samples)\n",
    "spectra_df"
   ]
  },
  {
   "cell_type": "code",
   "execution_count": 7,
   "id": "a1d3b92b-18fb-4732-881d-d11832bc18d9",
   "metadata": {
    "pycharm": {
     "name": "#%%\n"
    }
   },
   "outputs": [],
   "source": [
    "spectra_df.to_csv(\"../data/DRIAMS-A/spectra_binned_6000_all_reprocessed.csv\")"
   ]
  },
  {
   "cell_type": "code",
   "execution_count": 6,
   "id": "1d9adf3c-a330-424b-890a-2cf5e24a38c6",
   "metadata": {
    "pycharm": {
     "name": "#%%\n"
    }
   },
   "outputs": [],
   "source": [
    "np.save(\"../data/DRIAMS-A/spectra_binned_6000_all.npy\", spectra_df.values)"
   ]
  },
  {
   "cell_type": "code",
   "execution_count": null,
   "id": "5a5eaa8b-1a88-447b-a67e-a1b6b31b9239",
   "metadata": {},
   "outputs": [],
   "source": []
  },
  {
   "cell_type": "code",
   "execution_count": null,
   "id": "acd191df-7b64-4322-ba2d-8494886a8159",
   "metadata": {},
   "outputs": [],
   "source": []
  },
  {
   "cell_type": "code",
   "execution_count": 13,
   "id": "371774c7-dfb9-4ce6-8cde-cc15da57df51",
   "metadata": {},
   "outputs": [],
   "source": [
    "drugs_df = pd.read_csv(\"../processed_data/drug_fingerprints.csv\", index_col=0)\n",
    "long_table = long_table[long_table[\"drug\"].isin(drugs_df.index)]"
   ]
  },
  {
   "cell_type": "code",
   "execution_count": 6,
   "id": "ac198079-9ac9-4c7b-927a-8ae52eb28585",
   "metadata": {},
   "outputs": [
    {
     "data": {
      "text/html": [
       "<div>\n",
       "<style scoped>\n",
       "    .dataframe tbody tr th:only-of-type {\n",
       "        vertical-align: middle;\n",
       "    }\n",
       "\n",
       "    .dataframe tbody tr th {\n",
       "        vertical-align: top;\n",
       "    }\n",
       "\n",
       "    .dataframe thead th {\n",
       "        text-align: right;\n",
       "    }\n",
       "</style>\n",
       "<table border=\"1\" class=\"dataframe\">\n",
       "  <thead>\n",
       "    <tr style=\"text-align: right;\">\n",
       "      <th></th>\n",
       "      <th>MACCS_fp</th>\n",
       "      <th>morgan_512_fp</th>\n",
       "      <th>morgan_1024_fp</th>\n",
       "      <th>pubchem_fp</th>\n",
       "    </tr>\n",
       "    <tr>\n",
       "      <th>drug</th>\n",
       "      <th></th>\n",
       "      <th></th>\n",
       "      <th></th>\n",
       "      <th></th>\n",
       "    </tr>\n",
       "  </thead>\n",
       "  <tbody>\n",
       "    <tr>\n",
       "      <th>5-Fluorocytosine</th>\n",
       "      <td>0000000000000000000000000000000000000110001100...</td>\n",
       "      <td>0000000000000000000000000000000000000000000000...</td>\n",
       "      <td>0000000000000000000000000000000000000000000000...</td>\n",
       "      <td>1101110001100000000110001100100001000000000000...</td>\n",
       "    </tr>\n",
       "    <tr>\n",
       "      <th>Amikacin</th>\n",
       "      <td>0000000000000000000000000000000000000000000000...</td>\n",
       "      <td>0100000000000100000001000000001001010000000000...</td>\n",
       "      <td>0100000000000100000000000000001000010000000000...</td>\n",
       "      <td>1101110001111100000111101110111100000000000000...</td>\n",
       "    </tr>\n",
       "    <tr>\n",
       "      <th>Amoxicillin</th>\n",
       "      <td>0000000010010000000100000000000000001000000000...</td>\n",
       "      <td>0100010000000000001000000000000001001000000000...</td>\n",
       "      <td>0100010000000000001000000000000001001000000000...</td>\n",
       "      <td>1101110001111000000111101100111000000000000100...</td>\n",
       "    </tr>\n",
       "    <tr>\n",
       "      <th>Amphotericin B</th>\n",
       "      <td>0000000000000000000000000000000000000000000000...</td>\n",
       "      <td>0100000000000000000001000010000001011011100000...</td>\n",
       "      <td>0100000000000000000000000010000001011000100000...</td>\n",
       "      <td>1101110001111100000111111000111110000000000000...</td>\n",
       "    </tr>\n",
       "    <tr>\n",
       "      <th>Ampicillin</th>\n",
       "      <td>0000000010010000000100000000000000001000000000...</td>\n",
       "      <td>0100010000000000001000000000000001001000000001...</td>\n",
       "      <td>0100010000000000001000000000000001001000000000...</td>\n",
       "      <td>1101110001111000000111101100111000000000000100...</td>\n",
       "    </tr>\n",
       "    <tr>\n",
       "      <th>...</th>\n",
       "      <td>...</td>\n",
       "      <td>...</td>\n",
       "      <td>...</td>\n",
       "      <td>...</td>\n",
       "    </tr>\n",
       "    <tr>\n",
       "      <th>Ticarcillin</th>\n",
       "      <td>0000000010010000000100000000000000001000000000...</td>\n",
       "      <td>0100010000000010001000000000000001001000100000...</td>\n",
       "      <td>0100010000000010001000000000000001001000000000...</td>\n",
       "      <td>1101110001111000000111001100111000000000000110...</td>\n",
       "    </tr>\n",
       "    <tr>\n",
       "      <th>Tigecycline</th>\n",
       "      <td>0000000000000000000000000010000000000000000000...</td>\n",
       "      <td>0000000100000100000000000000010001001100011001...</td>\n",
       "      <td>0000000000000000000000000000000001001100010000...</td>\n",
       "      <td>1101110001111100000111101110111100000000000000...</td>\n",
       "    </tr>\n",
       "    <tr>\n",
       "      <th>Tobramycin</th>\n",
       "      <td>0000000000000000000000000000000000000000000000...</td>\n",
       "      <td>0000000000010000000001000000000000010000000000...</td>\n",
       "      <td>0000000000010000000000000000000000010000000000...</td>\n",
       "      <td>1101110001111100000111101110111100000000000000...</td>\n",
       "    </tr>\n",
       "    <tr>\n",
       "      <th>Vancomycin</th>\n",
       "      <td>0000000000000000000000000000000000000000000000...</td>\n",
       "      <td>0101000000111000000010000000000001001001000010...</td>\n",
       "      <td>0101000000110000000000000000000001001000000010...</td>\n",
       "      <td>1101110001111100000111111111111110000000000000...</td>\n",
       "    </tr>\n",
       "    <tr>\n",
       "      <th>Voriconazole</th>\n",
       "      <td>0000000010010000000000001000010011001010000101...</td>\n",
       "      <td>0010010000000010000000100000000111000001100000...</td>\n",
       "      <td>0000010000000010000000000000000001000001000000...</td>\n",
       "      <td>1101110001111000000111101111111100000000100111...</td>\n",
       "    </tr>\n",
       "  </tbody>\n",
       "</table>\n",
       "<p>65 rows × 4 columns</p>\n",
       "</div>"
      ],
      "text/plain": [
       "                                                           MACCS_fp  \\\n",
       "drug                                                                  \n",
       "5-Fluorocytosine  0000000000000000000000000000000000000110001100...   \n",
       "Amikacin          0000000000000000000000000000000000000000000000...   \n",
       "Amoxicillin       0000000010010000000100000000000000001000000000...   \n",
       "Amphotericin B    0000000000000000000000000000000000000000000000...   \n",
       "Ampicillin        0000000010010000000100000000000000001000000000...   \n",
       "...                                                             ...   \n",
       "Ticarcillin       0000000010010000000100000000000000001000000000...   \n",
       "Tigecycline       0000000000000000000000000010000000000000000000...   \n",
       "Tobramycin        0000000000000000000000000000000000000000000000...   \n",
       "Vancomycin        0000000000000000000000000000000000000000000000...   \n",
       "Voriconazole      0000000010010000000000001000010011001010000101...   \n",
       "\n",
       "                                                      morgan_512_fp  \\\n",
       "drug                                                                  \n",
       "5-Fluorocytosine  0000000000000000000000000000000000000000000000...   \n",
       "Amikacin          0100000000000100000001000000001001010000000000...   \n",
       "Amoxicillin       0100010000000000001000000000000001001000000000...   \n",
       "Amphotericin B    0100000000000000000001000010000001011011100000...   \n",
       "Ampicillin        0100010000000000001000000000000001001000000001...   \n",
       "...                                                             ...   \n",
       "Ticarcillin       0100010000000010001000000000000001001000100000...   \n",
       "Tigecycline       0000000100000100000000000000010001001100011001...   \n",
       "Tobramycin        0000000000010000000001000000000000010000000000...   \n",
       "Vancomycin        0101000000111000000010000000000001001001000010...   \n",
       "Voriconazole      0010010000000010000000100000000111000001100000...   \n",
       "\n",
       "                                                     morgan_1024_fp  \\\n",
       "drug                                                                  \n",
       "5-Fluorocytosine  0000000000000000000000000000000000000000000000...   \n",
       "Amikacin          0100000000000100000000000000001000010000000000...   \n",
       "Amoxicillin       0100010000000000001000000000000001001000000000...   \n",
       "Amphotericin B    0100000000000000000000000010000001011000100000...   \n",
       "Ampicillin        0100010000000000001000000000000001001000000000...   \n",
       "...                                                             ...   \n",
       "Ticarcillin       0100010000000010001000000000000001001000000000...   \n",
       "Tigecycline       0000000000000000000000000000000001001100010000...   \n",
       "Tobramycin        0000000000010000000000000000000000010000000000...   \n",
       "Vancomycin        0101000000110000000000000000000001001000000010...   \n",
       "Voriconazole      0000010000000010000000000000000001000001000000...   \n",
       "\n",
       "                                                         pubchem_fp  \n",
       "drug                                                                 \n",
       "5-Fluorocytosine  1101110001100000000110001100100001000000000000...  \n",
       "Amikacin          1101110001111100000111101110111100000000000000...  \n",
       "Amoxicillin       1101110001111000000111101100111000000000000100...  \n",
       "Amphotericin B    1101110001111100000111111000111110000000000000...  \n",
       "Ampicillin        1101110001111000000111101100111000000000000100...  \n",
       "...                                                             ...  \n",
       "Ticarcillin       1101110001111000000111001100111000000000000110...  \n",
       "Tigecycline       1101110001111100000111101110111100000000000000...  \n",
       "Tobramycin        1101110001111100000111101110111100000000000000...  \n",
       "Vancomycin        1101110001111100000111111111111110000000000000...  \n",
       "Voriconazole      1101110001111000000111101111111100000000100111...  \n",
       "\n",
       "[65 rows x 4 columns]"
      ]
     },
     "execution_count": 6,
     "metadata": {},
     "output_type": "execute_result"
    }
   ],
   "source": [
    "drugs_df"
   ]
  },
  {
   "cell_type": "code",
   "execution_count": 8,
   "id": "b89dc19b-9905-4609-b854-c6f1929b1105",
   "metadata": {},
   "outputs": [
    {
     "data": {
      "text/plain": [
       "38310"
      ]
     },
     "execution_count": 8,
     "metadata": {},
     "output_type": "execute_result"
    }
   ],
   "source": [
    "len(long_table[\"sample_id\"].unique())"
   ]
  },
  {
   "cell_type": "code",
   "execution_count": 14,
   "id": "3f6c68c5-f7dc-4ac4-a001-5716958ed073",
   "metadata": {},
   "outputs": [
    {
     "data": {
      "text/plain": [
       "32"
      ]
     },
     "execution_count": 14,
     "metadata": {},
     "output_type": "execute_result"
    }
   ],
   "source": [
    "len(long_table[\"drug\"].unique())"
   ]
  },
  {
   "cell_type": "code",
   "execution_count": null,
   "id": "5786ccea-f81f-4531-8243-8df35745a6b5",
   "metadata": {},
   "outputs": [],
   "source": []
  },
  {
   "cell_type": "code",
   "execution_count": 15,
   "id": "1e9f4d17-8d14-4a9b-a965-82abf5025aa2",
   "metadata": {},
   "outputs": [],
   "source": [
    "aa = np.random.normal(size=200)\n",
    "bb = np.random.normal(size=200)\n"
   ]
  },
  {
   "cell_type": "code",
   "execution_count": 16,
   "id": "2f50a016-2bb1-4101-8003-06497a53e484",
   "metadata": {},
   "outputs": [],
   "source": [
    "from scipy import stats"
   ]
  },
  {
   "cell_type": "code",
   "execution_count": 17,
   "id": "90cd2689-f178-4e08-ad4e-b7f866c62aab",
   "metadata": {},
   "outputs": [
    {
     "data": {
      "text/plain": [
       "SpearmanrResult(correlation=0.06240006000150005, pvalue=0.38005522295911875)"
      ]
     },
     "execution_count": 17,
     "metadata": {},
     "output_type": "execute_result"
    }
   ],
   "source": [
    "stats.spearmanr(aa, bb)"
   ]
  },
  {
   "cell_type": "code",
   "execution_count": 18,
   "id": "1599478a-ecf7-4d10-8f01-f41beca13af6",
   "metadata": {},
   "outputs": [
    {
     "data": {
      "text/plain": [
       "SpearmanrResult(correlation=-0.06240006000150005, pvalue=0.38005522295911875)"
      ]
     },
     "execution_count": 18,
     "metadata": {},
     "output_type": "execute_result"
    }
   ],
   "source": [
    "stats.spearmanr(aa, -1*bb)"
   ]
  },
  {
   "cell_type": "code",
   "execution_count": null,
   "id": "db6bee55-44e2-4a0a-91a3-16d802e70d72",
   "metadata": {},
   "outputs": [],
   "source": []
  }
 ],
 "metadata": {
  "kernelspec": {
   "display_name": "Python 3 (ipykernel)",
   "language": "python",
   "name": "python3"
  },
  "language_info": {
   "codemirror_mode": {
    "name": "ipython",
    "version": 3
   },
   "file_extension": ".py",
   "mimetype": "text/x-python",
   "name": "python",
   "nbconvert_exporter": "python",
   "pygments_lexer": "ipython3",
   "version": "3.9.12"
  }
 },
 "nbformat": 4,
 "nbformat_minor": 5
}