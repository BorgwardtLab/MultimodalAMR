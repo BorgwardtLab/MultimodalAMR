{
 "cells": [
  {
   "cell_type": "code",
   "execution_count": 1,
   "id": "2b4dc8a5-f0ff-4f07-b5d2-7aceaa4a6417",
   "metadata": {},
   "outputs": [],
   "source": [
    "import pandas as pd\n",
    "import numpy as np\n",
    "import os"
   ]
  },
  {
   "cell_type": "code",
   "execution_count": 2,
   "id": "91c5d03b-2fd0-45ec-bf62-fcbdae9d25d3",
   "metadata": {},
   "outputs": [
    {
     "data": {
      "text/plain": [
       "(2384, 6000)"
      ]
     },
     "execution_count": 2,
     "metadata": {},
     "output_type": "execute_result"
    }
   ],
   "source": [
    "spectra = np.load(\"../data/DRIAMS-B/spectra_binned_6000_2018.npy\")\n",
    "spectra.shape"
   ]
  },
  {
   "cell_type": "code",
   "execution_count": 3,
   "id": "348cbd6c-ddce-4447-8384-068f0d223d42",
   "metadata": {},
   "outputs": [
    {
     "data": {
      "text/plain": [
       "0.0369306808525187"
      ]
     },
     "execution_count": 3,
     "metadata": {},
     "output_type": "execute_result"
    }
   ],
   "source": [
    "np.max(spectra)"
   ]
  },
  {
   "cell_type": "code",
   "execution_count": 4,
   "id": "b5f3cbd9-08af-42df-b202-ff20b3653a65",
   "metadata": {},
   "outputs": [
    {
     "data": {
      "text/plain": [
       "0.0"
      ]
     },
     "execution_count": 4,
     "metadata": {},
     "output_type": "execute_result"
    }
   ],
   "source": [
    "np.min(spectra)"
   ]
  },
  {
   "cell_type": "code",
   "execution_count": null,
   "id": "77dd14bc-d441-4a81-9ae4-aed448e5ed5d",
   "metadata": {},
   "outputs": [],
   "source": [
    "np.sum(spectra, axis=1)"
   ]
  },
  {
   "cell_type": "markdown",
   "id": "90aab479-72d7-4eee-b3dc-0d9cfcd6ef31",
   "metadata": {},
   "source": [
    "# Siamese"
   ]
  },
  {
   "cell_type": "code",
   "execution_count": 2,
   "id": "91344719-8330-4aa6-bd83-d946e11a41d9",
   "metadata": {},
   "outputs": [],
   "source": [
    "mat = np.load(\"../data/DRIAMS-B/siamese_embeddings/embeddings_zero_shot_train.npy\")"
   ]
  },
  {
   "cell_type": "code",
   "execution_count": 3,
   "id": "ce0ad768-b320-48ff-a112-fb293541d2a4",
   "metadata": {},
   "outputs": [
    {
     "data": {
      "text/plain": [
       "(24551, 1024)"
      ]
     },
     "execution_count": 3,
     "metadata": {},
     "output_type": "execute_result"
    }
   ],
   "source": [
    "mat.shape"
   ]
  },
  {
   "cell_type": "code",
   "execution_count": 4,
   "id": "a3f8dc95-2f9c-46f9-ab56-e1acce27fd27",
   "metadata": {},
   "outputs": [
    {
     "data": {
      "text/plain": [
       "array([[0.        , 0.        , 0.        , ..., 0.        , 0.        ,\n",
       "        0.        ],\n",
       "       [0.        , 0.        , 0.        , ..., 0.        , 0.        ,\n",
       "        0.01046328],\n",
       "       [0.        , 0.        , 0.        , ..., 0.        , 0.        ,\n",
       "        0.00305142],\n",
       "       ...,\n",
       "       [0.        , 0.        , 0.        , ..., 0.        , 0.        ,\n",
       "        0.        ],\n",
       "       [0.        , 0.        , 0.        , ..., 0.        , 0.        ,\n",
       "        0.        ],\n",
       "       [0.        , 0.        , 0.        , ..., 0.        , 0.        ,\n",
       "        0.        ]], dtype=float32)"
      ]
     },
     "execution_count": 4,
     "metadata": {},
     "output_type": "execute_result"
    }
   ],
   "source": [
    "mat"
   ]
  },
  {
   "cell_type": "code",
   "execution_count": null,
   "id": "3fae3667-cae3-4f1a-b3b5-b0a06a512fd9",
   "metadata": {},
   "outputs": [],
   "source": []
  }
 ],
 "metadata": {
  "kernelspec": {
   "display_name": "Python 3",
   "language": "python",
   "name": "python3"
  },
  "language_info": {
   "codemirror_mode": {
    "name": "ipython",
    "version": 3
   },
   "file_extension": ".py",
   "mimetype": "text/x-python",
   "name": "python",
   "nbconvert_exporter": "python",
   "pygments_lexer": "ipython3",
   "version": "3.9.12"
  }
 },
 "nbformat": 4,
 "nbformat_minor": 5
}
