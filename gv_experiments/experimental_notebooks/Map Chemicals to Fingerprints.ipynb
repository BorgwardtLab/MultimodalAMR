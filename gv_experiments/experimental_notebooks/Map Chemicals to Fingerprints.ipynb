{
 "cells": [
  {
   "cell_type": "code",
   "execution_count": 2,
   "id": "ae3e4202-83d0-4677-b240-b7c43a7ebe6e",
   "metadata": {},
   "outputs": [],
   "source": [
    "import pandas as pd\n",
    "import os\n",
    "import numpy as np\n",
    "import pubchempy as pcp\n",
    "import json\n",
    "from tqdm.notebook import tqdm\n",
    "\n",
    "\n",
    "from rdkit import Chem\n",
    "from rdkit.Chem import MACCSkeys\n",
    "from rdkit.Chem import AllChem"
   ]
  },
  {
   "cell_type": "code",
   "execution_count": 6,
   "id": "7d618bcf-86b8-4067-b4b1-6d6550b054b5",
   "metadata": {},
   "outputs": [
    {
     "data": {
      "text/html": [
       "<div>\n",
       "<style scoped>\n",
       "    .dataframe tbody tr th:only-of-type {\n",
       "        vertical-align: middle;\n",
       "    }\n",
       "\n",
       "    .dataframe tbody tr th {\n",
       "        vertical-align: top;\n",
       "    }\n",
       "\n",
       "    .dataframe thead th {\n",
       "        text-align: right;\n",
       "    }\n",
       "</style>\n",
       "<table border=\"1\" class=\"dataframe\">\n",
       "  <thead>\n",
       "    <tr style=\"text-align: right;\">\n",
       "      <th></th>\n",
       "      <th>species</th>\n",
       "      <th>sample_id</th>\n",
       "      <th>drug</th>\n",
       "      <th>response</th>\n",
       "      <th>dataset</th>\n",
       "    </tr>\n",
       "  </thead>\n",
       "  <tbody>\n",
       "    <tr>\n",
       "      <th>0</th>\n",
       "      <td>Staphylococcus epidermidis</td>\n",
       "      <td>e9adf43d-679b-497c-9849-1fa214838dd3</td>\n",
       "      <td>Meropenem</td>\n",
       "      <td>1</td>\n",
       "      <td>A</td>\n",
       "    </tr>\n",
       "    <tr>\n",
       "      <th>1</th>\n",
       "      <td>Staphylococcus epidermidis</td>\n",
       "      <td>e9adf43d-679b-497c-9849-1fa214838dd3</td>\n",
       "      <td>Ciprofloxacin</td>\n",
       "      <td>1</td>\n",
       "      <td>A</td>\n",
       "    </tr>\n",
       "    <tr>\n",
       "      <th>2</th>\n",
       "      <td>Staphylococcus epidermidis</td>\n",
       "      <td>e9adf43d-679b-497c-9849-1fa214838dd3</td>\n",
       "      <td>Cefepime</td>\n",
       "      <td>1</td>\n",
       "      <td>A</td>\n",
       "    </tr>\n",
       "    <tr>\n",
       "      <th>3</th>\n",
       "      <td>Staphylococcus epidermidis</td>\n",
       "      <td>e9adf43d-679b-497c-9849-1fa214838dd3</td>\n",
       "      <td>Cotrimoxazole</td>\n",
       "      <td>0</td>\n",
       "      <td>A</td>\n",
       "    </tr>\n",
       "    <tr>\n",
       "      <th>4</th>\n",
       "      <td>Staphylococcus epidermidis</td>\n",
       "      <td>e9adf43d-679b-497c-9849-1fa214838dd3</td>\n",
       "      <td>Imipenem</td>\n",
       "      <td>1</td>\n",
       "      <td>A</td>\n",
       "    </tr>\n",
       "    <tr>\n",
       "      <th>...</th>\n",
       "      <td>...</td>\n",
       "      <td>...</td>\n",
       "      <td>...</td>\n",
       "      <td>...</td>\n",
       "      <td>...</td>\n",
       "    </tr>\n",
       "    <tr>\n",
       "      <th>652766</th>\n",
       "      <td>Staphylococcus aureus</td>\n",
       "      <td>08bc8410-51ec-46d7-ac7b-afba9e6ba2cd_3313</td>\n",
       "      <td>Linezolid</td>\n",
       "      <td>0</td>\n",
       "      <td>D</td>\n",
       "    </tr>\n",
       "    <tr>\n",
       "      <th>652767</th>\n",
       "      <td>Staphylococcus aureus</td>\n",
       "      <td>08bc8410-51ec-46d7-ac7b-afba9e6ba2cd_3313</td>\n",
       "      <td>Rifampicin</td>\n",
       "      <td>0</td>\n",
       "      <td>D</td>\n",
       "    </tr>\n",
       "    <tr>\n",
       "      <th>652768</th>\n",
       "      <td>Staphylococcus aureus</td>\n",
       "      <td>08bc8410-51ec-46d7-ac7b-afba9e6ba2cd_3313</td>\n",
       "      <td>Tetracycline</td>\n",
       "      <td>0</td>\n",
       "      <td>D</td>\n",
       "    </tr>\n",
       "    <tr>\n",
       "      <th>652769</th>\n",
       "      <td>Staphylococcus aureus</td>\n",
       "      <td>08bc8410-51ec-46d7-ac7b-afba9e6ba2cd_3313</td>\n",
       "      <td>Tigecycline</td>\n",
       "      <td>0</td>\n",
       "      <td>D</td>\n",
       "    </tr>\n",
       "    <tr>\n",
       "      <th>652770</th>\n",
       "      <td>Staphylococcus aureus</td>\n",
       "      <td>08bc8410-51ec-46d7-ac7b-afba9e6ba2cd_3313</td>\n",
       "      <td>Vancomycin</td>\n",
       "      <td>0</td>\n",
       "      <td>D</td>\n",
       "    </tr>\n",
       "  </tbody>\n",
       "</table>\n",
       "<p>652771 rows × 5 columns</p>\n",
       "</div>"
      ],
      "text/plain": [
       "                           species                                  sample_id  \\\n",
       "0       Staphylococcus epidermidis       e9adf43d-679b-497c-9849-1fa214838dd3   \n",
       "1       Staphylococcus epidermidis       e9adf43d-679b-497c-9849-1fa214838dd3   \n",
       "2       Staphylococcus epidermidis       e9adf43d-679b-497c-9849-1fa214838dd3   \n",
       "3       Staphylococcus epidermidis       e9adf43d-679b-497c-9849-1fa214838dd3   \n",
       "4       Staphylococcus epidermidis       e9adf43d-679b-497c-9849-1fa214838dd3   \n",
       "...                            ...                                        ...   \n",
       "652766       Staphylococcus aureus  08bc8410-51ec-46d7-ac7b-afba9e6ba2cd_3313   \n",
       "652767       Staphylococcus aureus  08bc8410-51ec-46d7-ac7b-afba9e6ba2cd_3313   \n",
       "652768       Staphylococcus aureus  08bc8410-51ec-46d7-ac7b-afba9e6ba2cd_3313   \n",
       "652769       Staphylococcus aureus  08bc8410-51ec-46d7-ac7b-afba9e6ba2cd_3313   \n",
       "652770       Staphylococcus aureus  08bc8410-51ec-46d7-ac7b-afba9e6ba2cd_3313   \n",
       "\n",
       "                 drug  response dataset  \n",
       "0           Meropenem         1       A  \n",
       "1       Ciprofloxacin         1       A  \n",
       "2            Cefepime         1       A  \n",
       "3       Cotrimoxazole         0       A  \n",
       "4            Imipenem         1       A  \n",
       "...               ...       ...     ...  \n",
       "652766      Linezolid         0       D  \n",
       "652767     Rifampicin         0       D  \n",
       "652768   Tetracycline         0       D  \n",
       "652769    Tigecycline         0       D  \n",
       "652770     Vancomycin         0       D  \n",
       "\n",
       "[652771 rows x 5 columns]"
      ]
     },
     "execution_count": 6,
     "metadata": {},
     "output_type": "execute_result"
    }
   ],
   "source": [
    "# drugs_set = set()\n",
    "# for dset in [\"A\", \"B\", \"C\", \"D\"]:\n",
    "#     df = pd.read_csv(\"../processed_data/driams_{}_long_table.csv\".format(dset))\n",
    "#     df_drugs = df[\"drug\"].unique()\n",
    "#     drugs_set.update(df_drugs)\n",
    "# drugs_set = sorted(list(drugs_set))\n",
    "# len(drugs_set)\n",
    "\n",
    "df = pd.read_csv(\"../processed_data/DRIAMS_combined_long_table.csv\")\n",
    "drugs_set = df[\"drug\"].unique()\n",
    "drugs_set = sorted(list(drugs_set))\n",
    "df"
   ]
  },
  {
   "cell_type": "code",
   "execution_count": 7,
   "id": "266c106c-0b9a-4ed1-9f0a-3a9271ee1747",
   "metadata": {},
   "outputs": [],
   "source": [
    "# samples_set = set()\n",
    "# for dset in [\"A\", \"B\", \"C\", \"D\"]:\n",
    "#     df = pd.read_csv(\"../processed_data/driams_{}_long_table.csv\".format(dset))\n",
    "#     df_samples = df[\"sample_id\"].unique()\n",
    "#     print(dset, len(df_samples))\n",
    "#     samples_set.update(df_samples)\n",
    "# samples_set = sorted(list(samples_set))\n",
    "# len(samples_set)"
   ]
  },
  {
   "cell_type": "code",
   "execution_count": 8,
   "id": "24711648-5702-42cb-a43b-0ac724cce1aa",
   "metadata": {},
   "outputs": [
    {
     "data": {
      "text/plain": [
       "['5-Fluorocytosine',\n",
       " 'Amikacin',\n",
       " 'Aminoglycosides',\n",
       " 'Amoxicillin',\n",
       " 'Amphotericin B',\n",
       " 'Ampicillin',\n",
       " 'Anidulafungin',\n",
       " 'Azithromycin',\n",
       " 'Aztreonam',\n",
       " 'Bacitracin',\n",
       " 'Benzylpenicillin',\n",
       " 'Caspofungin',\n",
       " 'Cefazolin',\n",
       " 'Cefepime',\n",
       " 'Cefixime',\n",
       " 'Cefotaxime',\n",
       " 'Cefoxitin',\n",
       " 'Cefpodoxime',\n",
       " 'Ceftarolin',\n",
       " 'Ceftazidime',\n",
       " 'Ceftobiprole',\n",
       " 'Ceftriaxone',\n",
       " 'Cefuroxime',\n",
       " 'Chloramphenicol',\n",
       " 'Ciprofloxacin',\n",
       " 'Clarithromycin',\n",
       " 'Clindamycin',\n",
       " 'Colistin',\n",
       " 'Cotrimoxazol',\n",
       " 'Cotrimoxazole',\n",
       " 'Daptomycin',\n",
       " 'Doxycycline',\n",
       " 'Ertapenem',\n",
       " 'Erythromycin',\n",
       " 'Fluconazole',\n",
       " 'Fosfomycin',\n",
       " 'Fusidic acid',\n",
       " 'Gentamicin',\n",
       " 'Imipenem',\n",
       " 'Isavuconazole',\n",
       " 'Itraconazole',\n",
       " 'Levofloxacin',\n",
       " 'Linezolid',\n",
       " 'Meropenem',\n",
       " 'Metronidazole',\n",
       " 'Micafungin',\n",
       " 'Minocycline',\n",
       " 'Moxifloxacin',\n",
       " 'Mupirocin',\n",
       " 'Nitrofurantoin',\n",
       " 'Norfloxacin',\n",
       " 'Novobiocin',\n",
       " 'Ofloxacin',\n",
       " 'Oxacillin',\n",
       " 'Penicillin',\n",
       " 'Piperacillin',\n",
       " 'Polymyxin B',\n",
       " 'Posaconazole',\n",
       " 'Quinolones',\n",
       " 'Rifampicin',\n",
       " 'Teicoplanin',\n",
       " 'Telithromycin',\n",
       " 'Tetracycline',\n",
       " 'Ticarcillin',\n",
       " 'Tigecycline',\n",
       " 'Tobramycin',\n",
       " 'Vancomycin',\n",
       " 'Voriconazole']"
      ]
     },
     "execution_count": 8,
     "metadata": {},
     "output_type": "execute_result"
    }
   ],
   "source": [
    "drugs_set"
   ]
  },
  {
   "cell_type": "code",
   "execution_count": 9,
   "id": "63777791-1411-448f-ad78-4876c21a3f17",
   "metadata": {},
   "outputs": [],
   "source": [
    "# antibiotics_data = pd.read_csv(\"../data/41591_2021_1619_MOESM3_ESM.csv\")\n",
    "# antibiotics_data"
   ]
  },
  {
   "cell_type": "code",
   "execution_count": 10,
   "id": "07560e46-977e-4808-baaf-76d20cca83c5",
   "metadata": {},
   "outputs": [],
   "source": [
    "# antibiotics = antibiotics_data[\"antibiotic\"]"
   ]
  },
  {
   "cell_type": "code",
   "execution_count": 11,
   "id": "b8db83c2-d433-42da-bff2-7e61efa5c71c",
   "metadata": {},
   "outputs": [],
   "source": [
    "# antibiotics_names = list(set([a.split(\"_\")[0] for a in antibiotics]))"
   ]
  },
  {
   "cell_type": "code",
   "execution_count": 12,
   "id": "dbee5ffd-2062-4ce3-a424-636344b7f884",
   "metadata": {},
   "outputs": [],
   "source": [
    "# antibiotics_names"
   ]
  },
  {
   "cell_type": "code",
   "execution_count": 13,
   "id": "8eb75ff6-7b92-41ed-a18c-0c75b43d9056",
   "metadata": {},
   "outputs": [
    {
     "data": {
      "text/plain": [
       "[Compound(3366)]"
      ]
     },
     "execution_count": 13,
     "metadata": {},
     "output_type": "execute_result"
    }
   ],
   "source": [
    "results = pcp.get_compounds(drugs_set[0], 'name')\n",
    "results"
   ]
  },
  {
   "cell_type": "code",
   "execution_count": 16,
   "id": "5b696991-b1a9-41f5-a5f0-de124364d3df",
   "metadata": {},
   "outputs": [
    {
     "name": "stderr",
     "output_type": "stream",
     "text": [
      "Exception ignored in: <bound method tqdm.__del__ of <tqdm.notebook.tqdm_notebook object at 0x7f5281aabf98>>\n",
      "Traceback (most recent call last):\n",
      "  File \"/home/gvisona/miniconda3/envs/chem/lib/python3.6/site-packages/tqdm/std.py\", line 1162, in __del__\n",
      "    self.close()\n",
      "  File \"/home/gvisona/miniconda3/envs/chem/lib/python3.6/site-packages/tqdm/notebook.py\", line 291, in close\n",
      "    self.disp(bar_style='success', check_delay=False)\n",
      "AttributeError: 'tqdm_notebook' object has no attribute 'disp'\n"
     ]
    }
   ],
   "source": [
    "name2cid = {}\n",
    "name2smiles = {}\n",
    "name2pcp_fp = {}\n",
    "\n",
    "structure2d = {}\n",
    "not_found = []\n",
    "for i, an in enumerate(drugs_set):\n",
    "    results = pcp.get_compounds(an, 'name')\n",
    "    if len(results)<1:\n",
    "        not_found.append(an)\n",
    "        continue\n",
    "    #     print(results)\n",
    "    r = results[0]\n",
    "    name2cid[an] = r.cid\n",
    "    name2smiles[an] = r.canonical_smiles\n",
    "    \n",
    "    name2pcp_fp[an] = bin(int(r.fingerprint, 16))[2:]\n",
    "    \n",
    "    structure2d[an] = {\"cid\": r.record[\"id\"][\"id\"][\"cid\"], \"atoms\": r.record[\"atoms\"],\n",
    "                       \"bonds\": r.record[\"bonds\"]}\n"
   ]
  },
  {
   "cell_type": "code",
   "execution_count": 17,
   "id": "97fd81e5-d733-4dd4-99fb-15ae0cb2a492",
   "metadata": {},
   "outputs": [
    {
     "data": {
      "text/plain": [
       "['Aminoglycosides', 'Bacitracin', 'Ceftarolin']"
      ]
     },
     "execution_count": 17,
     "metadata": {},
     "output_type": "execute_result"
    }
   ],
   "source": [
    "not_found"
   ]
  },
  {
   "cell_type": "code",
   "execution_count": 18,
   "id": "4e4e31a2-e5f0-4b9f-8461-560baf20386c",
   "metadata": {},
   "outputs": [],
   "source": [
    "# Manual matching\n",
    "\n",
    "# mm_drugs = [\"amoxicillin\", \"clavulanic acid\", \"fosfomycin\", \"trometamol\", \"aminoglycosides\", \"ampicillin\"]\n",
    "# cids = [33613, 5280980, 446987, 6503, 91896577, 6249]\n",
    "\n",
    "mm_drugs = ['Aminoglycosides', 'Bacitracin', 'Ceftarolin']\n",
    "cids = [91896577, 11980094, 9852981]\n",
    "\n",
    "for dname, cid in zip(mm_drugs, cids):\n",
    "    r = pcp.Compound.from_cid(cid)\n",
    "    \n",
    "    name2cid[an] = r.cid\n",
    "    name2smiles[an] = r.canonical_smiles\n",
    "    name2pcp_fp[an] = bin(int(r.fingerprint, 16))[2:]\n",
    "    \n",
    "    \n",
    "    structure2d[an] = {\"cid\": r.record[\"id\"][\"id\"][\"cid\"], \"atoms\": r.record[\"atoms\"],\n",
    "                       \"bonds\": r.record[\"bonds\"]}\n"
   ]
  },
  {
   "cell_type": "code",
   "execution_count": 19,
   "id": "78b31009-4f31-476c-9b6f-e5c9df823996",
   "metadata": {},
   "outputs": [],
   "source": [
    "with open(\"../data/drugs_2d_structure.json\", \"w\") as f:\n",
    "    json.dump(structure2d, f, indent=2)"
   ]
  },
  {
   "cell_type": "code",
   "execution_count": 20,
   "id": "d6ae091b-a5a4-4d8d-b7f2-354873c4f758",
   "metadata": {},
   "outputs": [],
   "source": [
    "with open(\"../data/drug_name2cid.json\", \"w\") as f:\n",
    "    json.dump(name2cid, f, indent=2)"
   ]
  },
  {
   "cell_type": "code",
   "execution_count": 21,
   "id": "02264fe6-42a5-4949-b3bb-a6916124037d",
   "metadata": {},
   "outputs": [],
   "source": [
    "with open(\"../data/drug_name2smiles.json\", \"w\") as f:\n",
    "    json.dump(name2smiles, f, indent=2)"
   ]
  },
  {
   "cell_type": "code",
   "execution_count": 22,
   "id": "106561db-48e5-4693-8e4a-7351689f9ee9",
   "metadata": {},
   "outputs": [
    {
     "data": {
      "text/plain": [
       "{'5-Fluorocytosine': 'C1=NC(=O)NC(=C1F)N',\n",
       " 'Amikacin': 'C1C(C(C(C(C1NC(=O)C(CCN)O)OC2C(C(C(C(O2)CO)O)N)O)O)OC3C(C(C(C(O3)CN)O)O)O)N',\n",
       " 'Amoxicillin': 'CC1(C(N2C(S1)C(C2=O)NC(=O)C(C3=CC=C(C=C3)O)N)C(=O)O)C',\n",
       " 'Amphotericin B': 'CC1C=CC=CC=CC=CC=CC=CC=CC(CC2C(C(CC(O2)(CC(CC(C(CCC(CC(CC(=O)OC(C(C1O)C)C)O)O)O)O)O)O)O)C(=O)O)OC3C(C(C(C(O3)C)O)N)O',\n",
       " 'Ampicillin': 'CC1(C(N2C(S1)C(C2=O)NC(=O)C(C3=CC=CC=C3)N)C(=O)O)C',\n",
       " 'Anidulafungin': 'CCCCCOC1=CC=C(C=C1)C2=CC=C(C=C2)C3=CC=C(C=C3)C(=O)NC4CC(C(NC(=O)C5C(C(CN5C(=O)C(NC(=O)C(NC(=O)C6CC(CN6C(=O)C(NC4=O)C(C)O)O)C(C(C7=CC=C(C=C7)O)O)O)C(C)O)C)O)O)O',\n",
       " 'Azithromycin': 'CCC1C(C(C(N(CC(CC(C(C(C(C(C(=O)O1)C)OC2CC(C(C(O2)C)O)(C)OC)C)OC3C(C(CC(O3)C)N(C)C)O)(C)O)C)C)C)O)(C)O',\n",
       " 'Aztreonam': 'CC1C(C(=O)N1S(=O)(=O)O)NC(=O)C(=NOC(C)(C)C(=O)O)C2=CSC(=N2)N',\n",
       " 'Benzylpenicillin': 'CC1(C(N2C(S1)C(C2=O)NC(=O)CC3=CC=CC=C3)C(=O)O)C',\n",
       " 'Caspofungin': 'CCC(C)CC(C)CCCCCCCCC(=O)NC1CC(C(NC(=O)C2C(CCN2C(=O)C(NC(=O)C(NC(=O)C3CC(CN3C(=O)C(NC1=O)C(C)O)O)C(C(C4=CC=C(C=C4)O)O)O)C(CCN)O)O)NCCN)O',\n",
       " 'Cefazolin': 'CC1=NN=C(S1)SCC2=C(N3C(C(C3=O)NC(=O)CN4C=NN=N4)SC2)C(=O)O',\n",
       " 'Cefepime': 'C[N+]1(CCCC1)CC2=C(N3C(C(C3=O)NC(=O)C(=NOC)C4=CSC(=N4)N)SC2)C(=O)[O-]',\n",
       " 'Cefixime': 'C=CC1=C(N2C(C(C2=O)NC(=O)C(=NOCC(=O)O)C3=CSC(=N3)N)SC1)C(=O)O',\n",
       " 'Cefotaxime': 'CC(=O)OCC1=C(N2C(C(C2=O)NC(=O)C(=NOC)C3=CSC(=N3)N)SC1)C(=O)O',\n",
       " 'Cefoxitin': 'COC1(C2N(C1=O)C(=C(CS2)COC(=O)N)C(=O)O)NC(=O)CC3=CC=CS3',\n",
       " 'Cefpodoxime': 'COCC1=C(N2C(C(C2=O)NC(=O)C(=NOC)C3=CSC(=N3)N)SC1)C(=O)O',\n",
       " 'Ceftazidime': 'CC(C)(C(=O)O)ON=C(C1=CSC(=N1)N)C(=O)NC2C3N(C2=O)C(=C(CS3)C[N+]4=CC=CC=C4)C(=O)[O-]',\n",
       " 'Ceftobiprole': 'C1CNCC1N2CCC(=CC3=C(N4C(C(C4=O)NC(=O)C(=NO)C5=NSC(=N5)N)SC3)C(=O)O)C2=O',\n",
       " 'Ceftriaxone': 'CN1C(=NC(=O)C(=O)N1)SCC2=C(N3C(C(C3=O)NC(=O)C(=NOC)C4=CSC(=N4)N)SC2)C(=O)O',\n",
       " 'Cefuroxime': 'CON=C(C1=CC=CO1)C(=O)NC2C3N(C2=O)C(=C(CS3)COC(=O)N)C(=O)O',\n",
       " 'Chloramphenicol': 'C1=CC(=CC=C1C(C(CO)NC(=O)C(Cl)Cl)O)[N+](=O)[O-]',\n",
       " 'Ciprofloxacin': 'C1CC1N2C=C(C(=O)C3=CC(=C(C=C32)N4CCNCC4)F)C(=O)O',\n",
       " 'Clarithromycin': 'CCC1C(C(C(C(=O)C(CC(C(C(C(C(C(=O)O1)C)OC2CC(C(C(O2)C)O)(C)OC)C)OC3C(C(CC(O3)C)N(C)C)O)(C)OC)C)C)O)(C)O',\n",
       " 'Clindamycin': 'CCCC1CC(N(C1)C)C(=O)NC(C2C(C(C(C(O2)SC)O)O)O)C(C)Cl',\n",
       " 'Colistin': 'CCC(C)CCCC(=O)NC(CCN)C(=O)NC(C(C)O)C(=O)NC(CCN)C(=O)NC1CCNC(=O)C(NC(=O)C(NC(=O)C(NC(=O)C(NC(=O)C(NC(=O)C(NC1=O)CCN)CC(C)C)CC(C)C)CCN)CCN)C(C)O',\n",
       " 'Cotrimoxazol': 'CC1=CC(=NO1)NS(=O)(=O)C2=CC=C(C=C2)N.COC1=CC(=CC(=C1OC)OC)CC2=CN=C(N=C2N)N',\n",
       " 'Cotrimoxazole': 'CC1=CC(=NO1)NS(=O)(=O)C2=CC=C(C=C2)N.COC1=CC(=CC(=C1OC)OC)CC2=CN=C(N=C2N)N',\n",
       " 'Daptomycin': 'CCCCCCCCCC(=O)NC(CC1=CNC2=CC=CC=C21)C(=O)NC(CC(=O)N)C(=O)NC(CC(=O)O)C(=O)NC3C(OC(=O)C(NC(=O)C(NC(=O)C(NC(=O)CNC(=O)C(NC(=O)C(NC(=O)C(NC(=O)C(NC(=O)CNC3=O)CCCN)CC(=O)O)C)CC(=O)O)CO)C(C)CC(=O)O)CC(=O)C4=CC=CC=C4N)C',\n",
       " 'Doxycycline': 'CC1C2C(C3C(C(=O)C(=C(C3(C(=O)C2=C(C4=C1C=CC=C4O)O)O)O)C(=O)N)N(C)C)O',\n",
       " 'Ertapenem': 'CC1C2C(C(=O)N2C(=C1SC3CC(NC3)C(=O)NC4=CC=CC(=C4)C(=O)O)C(=O)O)C(C)O',\n",
       " 'Erythromycin': 'CCC1C(C(C(C(=O)C(CC(C(C(C(C(C(=O)O1)C)OC2CC(C(C(O2)C)O)(C)OC)C)OC3C(C(CC(O3)C)N(C)C)O)(C)O)C)C)O)(C)O',\n",
       " 'Fluconazole': 'C1=CC(=C(C=C1F)F)C(CN2C=NC=N2)(CN3C=NC=N3)O',\n",
       " 'Fosfomycin': 'CC1C(O1)P(=O)(O)O',\n",
       " 'Fusidic acid': 'CC1C2CCC3(C(C2(CCC1O)C)C(CC4C3(CC(C4=C(CCC=C(C)C)C(=O)O)OC(=O)C)C)O)C',\n",
       " 'Gentamicin': 'CC(C1CCC(C(O1)OC2C(CC(C(C2O)OC3C(C(C(CO3)(C)O)NC)O)N)N)N)NC',\n",
       " 'Imipenem': 'CC(C1C2CC(=C(N2C1=O)C(=O)O)SCCN=CN)O',\n",
       " 'Isavuconazole': 'CC(C1=NC(=CS1)C2=CC=C(C=C2)C#N)C(CN3C=NC=N3)(C4=C(C=CC(=C4)F)F)O',\n",
       " 'Itraconazole': 'CCC(C)N1C(=O)N(C=N1)C2=CC=C(C=C2)N3CCN(CC3)C4=CC=C(C=C4)OCC5COC(O5)(CN6C=NC=N6)C7=C(C=C(C=C7)Cl)Cl',\n",
       " 'Levofloxacin': 'CC1COC2=C3N1C=C(C(=O)C3=CC(=C2N4CCN(CC4)C)F)C(=O)O',\n",
       " 'Linezolid': 'CC(=O)NCC1CN(C(=O)O1)C2=CC(=C(C=C2)N3CCOCC3)F',\n",
       " 'Meropenem': 'CC1C2C(C(=O)N2C(=C1SC3CC(NC3)C(=O)N(C)C)C(=O)O)C(C)O',\n",
       " 'Metronidazole': 'CC1=NC=C(N1CCO)[N+](=O)[O-]',\n",
       " 'Micafungin': 'CCCCCOC1=CC=C(C=C1)C2=CC(=NO2)C3=CC=C(C=C3)C(=O)NC4CC(C(NC(=O)C5C(C(CN5C(=O)C(NC(=O)C(NC(=O)C6CC(CN6C(=O)C(NC4=O)C(C)O)O)C(C(C7=CC(=C(C=C7)O)OS(=O)(=O)O)O)O)C(CC(=O)N)O)C)O)O)O',\n",
       " 'Minocycline': 'CN(C)C1C2CC3CC4=C(C=CC(=C4C(=C3C(=O)C2(C(=C(C1=O)C(=O)N)O)O)O)O)N(C)C',\n",
       " 'Moxifloxacin': 'COC1=C2C(=CC(=C1N3CC4CCCNC4C3)F)C(=O)C(=CN2C5CC5)C(=O)O',\n",
       " 'Mupirocin': 'CC(C1C(O1)CC2COC(C(C2O)O)CC(=CC(=O)OCCCCCCCCC(=O)O)C)C(C)O',\n",
       " 'Nitrofurantoin': 'C1C(=O)NC(=O)N1N=CC2=CC=C(O2)[N+](=O)[O-]',\n",
       " 'Norfloxacin': 'CCN1C=C(C(=O)C2=CC(=C(C=C21)N3CCNCC3)F)C(=O)O',\n",
       " 'Novobiocin': 'CC1=C(C=CC2=C1OC(=O)C(=C2O)NC(=O)C3=CC(=C(C=C3)O)CC=C(C)C)OC4C(C(C(C(O4)(C)C)OC)OC(=O)N)O',\n",
       " 'Ofloxacin': 'CC1COC2=C3N1C=C(C(=O)C3=CC(=C2N4CCN(CC4)C)F)C(=O)O',\n",
       " 'Oxacillin': 'CC1=C(C(=NO1)C2=CC=CC=C2)C(=O)NC3C4N(C3=O)C(C(S4)(C)C)C(=O)O',\n",
       " 'Penicillin': 'CC1(C(N2C(S1)C(C2=O)NC(=O)CC3=CC=CC=C3)C(=O)O)C',\n",
       " 'Piperacillin': 'CCN1CCN(C(=O)C1=O)C(=O)NC(C2=CC=CC=C2)C(=O)NC3C4N(C3=O)C(C(S4)(C)C)C(=O)O',\n",
       " 'Polymyxin B': 'CCC(C)CCCCC(=O)NC(CCN)C(=O)NC(C(C)O)C(=O)NC(CCN)C(=O)NC1CCNC(=O)C(NC(=O)C(NC(=O)C(NC(=O)C(NC(=O)C(NC(=O)C(NC1=O)CCN)CC2=CC=CC=C2)CC(C)C)CCN)CCN)C(C)O',\n",
       " 'Posaconazole': 'CCC(C(C)O)N1C(=O)N(C=N1)C2=CC=C(C=C2)N3CCN(CC3)C4=CC=C(C=C4)OCC5CC(OC5)(CN6C=NC=N6)C7=C(C=C(C=C7)F)F',\n",
       " 'Quinolones': 'C1=CC=C2C(=C1)C=CC(=O)N2',\n",
       " 'Rifampicin': 'CC1C=CC=C(C(=O)NC2=C(C(=C3C(=C2O)C(=C(C4=C3C(=O)C(O4)(OC=CC(C(C(C(C(C(C1O)C)O)C)OC(=O)C)C)OC)C)C)O)O)C=NN5CCN(CC5)C)C',\n",
       " 'Teicoplanin': 'CCCCCCCCCC(=O)NC1C(C(C(OC1OC2=C3C=C4C=C2OC5=C(C=C(C=C5)C(C6C(=O)NC(C7=C(C(=CC(=C7)O)OC8C(C(C(C(O8)CO)O)O)O)C9=C(C=CC(=C9)C(C(=O)N6)NC(=O)C4NC(=O)C1C2=CC(=CC(=C2)OC2=C(C=CC(=C2)C(C(=O)NC(CC2=CC(=C(O3)C=C2)Cl)C(=O)N1)N)O)O)O)C(=O)O)OC1C(C(C(C(O1)CO)O)O)NC(=O)C)Cl)CO)O)O',\n",
       " 'Telithromycin': 'CCC1C2(C(C(C(=O)C(CC(C(C(C(=O)C(C(=O)O1)C)C)OC3C(C(CC(O3)C)N(C)C)O)(C)OC)C)C)N(C(=O)O2)CCCCN4C=C(N=C4)C5=CN=CC=C5)C',\n",
       " 'Tetracycline': 'CC1(C2CC3C(C(=O)C(=C(C3(C(=O)C2=C(C4=C1C=CC=C4O)O)O)O)C(=O)N)N(C)C)O',\n",
       " 'Ticarcillin': 'CC1(C(N2C(S1)C(C2=O)NC(=O)C(C3=CSC=C3)C(=O)O)C(=O)O)C',\n",
       " 'Tigecycline': 'CC(C)(C)NCC(=O)NC1=CC(=C2CC3CC4C(C(=O)C(=C(C4(C(=O)C3=C(C2=C1O)O)O)O)C(=O)N)N(C)C)N(C)C',\n",
       " 'Tobramycin': 'C1C(C(C(C(C1N)OC2C(C(C(C(O2)CO)O)N)O)O)OC3C(CC(C(O3)CN)O)N)N',\n",
       " 'Vancomycin': 'CC1C(C(CC(O1)OC2C(C(C(OC2OC3=C4C=C5C=C3OC6=C(C=C(C=C6)C(C(C(=O)NC(C(=O)NC5C(=O)NC7C8=CC(=C(C=C8)O)C9=C(C=C(C=C9O)O)C(NC(=O)C(C(C1=CC(=C(O4)C=C1)Cl)O)NC7=O)C(=O)O)CC(=O)N)NC(=O)C(CC(C)C)NC)O)Cl)CO)O)O)(C)N)O',\n",
       " 'Voriconazole': 'CCON=C(C1=NSC(=N1)NP(=O)(O)O)C(=O)NC2C3N(C2=O)C(=C(CS3)SC4=NC(=CS4)C5=CC=[N+](C=C5)C)C(=O)[O-]'}"
      ]
     },
     "execution_count": 22,
     "metadata": {},
     "output_type": "execute_result"
    }
   ],
   "source": [
    "name2smiles"
   ]
  },
  {
   "cell_type": "code",
   "execution_count": null,
   "id": "624b368a-11fe-44df-865a-5627fd397514",
   "metadata": {},
   "outputs": [],
   "source": []
  },
  {
   "cell_type": "markdown",
   "id": "4e4d1e00-103c-40a6-841c-d2f41db6e181",
   "metadata": {},
   "source": [
    "# Convert SMILES to fingerprints"
   ]
  },
  {
   "cell_type": "code",
   "execution_count": 15,
   "id": "ba492d12-99aa-4b16-9c8e-5d6f64010e83",
   "metadata": {},
   "outputs": [],
   "source": [
    "with open(\"../data/drug_name2smiles.json\", \"r\") as f:\n",
    "    name2smiles = json.load(f)"
   ]
  },
  {
   "cell_type": "code",
   "execution_count": 43,
   "id": "71b13a89-182c-4b29-9623-bffc12d148c8",
   "metadata": {},
   "outputs": [
    {
     "data": {
      "application/vnd.jupyter.widget-view+json": {
       "model_id": "063b34a8722f4bcca57694f8efb4c66c",
       "version_major": 2,
       "version_minor": 0
      },
      "text/plain": [
       "  0%|          | 0/65 [00:00<?, ?it/s]"
      ]
     },
     "metadata": {},
     "output_type": "display_data"
    },
    {
     "data": {
      "text/html": [
       "<div>\n",
       "<style scoped>\n",
       "    .dataframe tbody tr th:only-of-type {\n",
       "        vertical-align: middle;\n",
       "    }\n",
       "\n",
       "    .dataframe tbody tr th {\n",
       "        vertical-align: top;\n",
       "    }\n",
       "\n",
       "    .dataframe thead th {\n",
       "        text-align: right;\n",
       "    }\n",
       "</style>\n",
       "<table border=\"1\" class=\"dataframe\">\n",
       "  <thead>\n",
       "    <tr style=\"text-align: right;\">\n",
       "      <th></th>\n",
       "      <th>drug</th>\n",
       "      <th>MACCS_fp</th>\n",
       "      <th>mogan_fp</th>\n",
       "      <th>pubchem_fp</th>\n",
       "    </tr>\n",
       "  </thead>\n",
       "  <tbody>\n",
       "    <tr>\n",
       "      <th>0</th>\n",
       "      <td>5-Fluorocytosine</td>\n",
       "      <td>0000000000000000000000000000000000000110001100...</td>\n",
       "      <td>0000000000000000000000000000000000000000000000...</td>\n",
       "      <td>1101110001100000000110001100100001000000000000...</td>\n",
       "    </tr>\n",
       "    <tr>\n",
       "      <th>1</th>\n",
       "      <td>Amikacin</td>\n",
       "      <td>0000000000000000000000000000000000000000000000...</td>\n",
       "      <td>0100000000000100000001100000001001010010000000...</td>\n",
       "      <td>1101110001111100000111101110111100000000000000...</td>\n",
       "    </tr>\n",
       "    <tr>\n",
       "      <th>2</th>\n",
       "      <td>Amoxicillin</td>\n",
       "      <td>0000000010010000000100000000000000001000000000...</td>\n",
       "      <td>0100010000000000001000000000000001001000000000...</td>\n",
       "      <td>1101110001111000000111101100111000000000000100...</td>\n",
       "    </tr>\n",
       "    <tr>\n",
       "      <th>3</th>\n",
       "      <td>Amphotericin B</td>\n",
       "      <td>0000000000000000000000000000000000000000000000...</td>\n",
       "      <td>0100000000001000000011000010000101011011100000...</td>\n",
       "      <td>1101110001111100000111111000111110000000000000...</td>\n",
       "    </tr>\n",
       "    <tr>\n",
       "      <th>4</th>\n",
       "      <td>Ampicillin</td>\n",
       "      <td>0000000010010000000100000000000000001000000000...</td>\n",
       "      <td>0100010000000000001000000000000001001000000001...</td>\n",
       "      <td>1101110001111000000111101100111000000000000100...</td>\n",
       "    </tr>\n",
       "    <tr>\n",
       "      <th>...</th>\n",
       "      <td>...</td>\n",
       "      <td>...</td>\n",
       "      <td>...</td>\n",
       "      <td>...</td>\n",
       "    </tr>\n",
       "    <tr>\n",
       "      <th>60</th>\n",
       "      <td>Ticarcillin</td>\n",
       "      <td>0000000010010000000100000000000000001000000000...</td>\n",
       "      <td>0100010000000010001000000000000001001000100000...</td>\n",
       "      <td>1101110001111000000111001100111000000000000110...</td>\n",
       "    </tr>\n",
       "    <tr>\n",
       "      <th>61</th>\n",
       "      <td>Tigecycline</td>\n",
       "      <td>0000000000000000000000000010000000000000000000...</td>\n",
       "      <td>0000010100000100000010000000010001001100011001...</td>\n",
       "      <td>1101110001111100000111101110111100000000000000...</td>\n",
       "    </tr>\n",
       "    <tr>\n",
       "      <th>62</th>\n",
       "      <td>Tobramycin</td>\n",
       "      <td>0000000000000000000000000000000000000000000000...</td>\n",
       "      <td>0000000000010000000001000000000000010010000000...</td>\n",
       "      <td>1101110001111100000111101110111100000000000000...</td>\n",
       "    </tr>\n",
       "    <tr>\n",
       "      <th>63</th>\n",
       "      <td>Vancomycin</td>\n",
       "      <td>0000000000000000000000000000000000000000000000...</td>\n",
       "      <td>0101100000111000100010000000100001001001000010...</td>\n",
       "      <td>1101110001111100000111111111111110000000000000...</td>\n",
       "    </tr>\n",
       "    <tr>\n",
       "      <th>64</th>\n",
       "      <td>Voriconazole</td>\n",
       "      <td>0000000010010000000000001000010011001010000101...</td>\n",
       "      <td>0010010000000010010000100000000111000101100000...</td>\n",
       "      <td>1101110001111000000111101111111100000000100111...</td>\n",
       "    </tr>\n",
       "  </tbody>\n",
       "</table>\n",
       "<p>65 rows × 4 columns</p>\n",
       "</div>"
      ],
      "text/plain": [
       "                drug                                           MACCS_fp  \\\n",
       "0   5-Fluorocytosine  0000000000000000000000000000000000000110001100...   \n",
       "1           Amikacin  0000000000000000000000000000000000000000000000...   \n",
       "2        Amoxicillin  0000000010010000000100000000000000001000000000...   \n",
       "3     Amphotericin B  0000000000000000000000000000000000000000000000...   \n",
       "4         Ampicillin  0000000010010000000100000000000000001000000000...   \n",
       "..               ...                                                ...   \n",
       "60       Ticarcillin  0000000010010000000100000000000000001000000000...   \n",
       "61       Tigecycline  0000000000000000000000000010000000000000000000...   \n",
       "62        Tobramycin  0000000000000000000000000000000000000000000000...   \n",
       "63        Vancomycin  0000000000000000000000000000000000000000000000...   \n",
       "64      Voriconazole  0000000010010000000000001000010011001010000101...   \n",
       "\n",
       "                                             mogan_fp  \\\n",
       "0   0000000000000000000000000000000000000000000000...   \n",
       "1   0100000000000100000001100000001001010010000000...   \n",
       "2   0100010000000000001000000000000001001000000000...   \n",
       "3   0100000000001000000011000010000101011011100000...   \n",
       "4   0100010000000000001000000000000001001000000001...   \n",
       "..                                                ...   \n",
       "60  0100010000000010001000000000000001001000100000...   \n",
       "61  0000010100000100000010000000010001001100011001...   \n",
       "62  0000000000010000000001000000000000010010000000...   \n",
       "63  0101100000111000100010000000100001001001000010...   \n",
       "64  0010010000000010010000100000000111000101100000...   \n",
       "\n",
       "                                           pubchem_fp  \n",
       "0   1101110001100000000110001100100001000000000000...  \n",
       "1   1101110001111100000111101110111100000000000000...  \n",
       "2   1101110001111000000111101100111000000000000100...  \n",
       "3   1101110001111100000111111000111110000000000000...  \n",
       "4   1101110001111000000111101100111000000000000100...  \n",
       "..                                                ...  \n",
       "60  1101110001111000000111001100111000000000000110...  \n",
       "61  1101110001111100000111101110111100000000000000...  \n",
       "62  1101110001111100000111101110111100000000000000...  \n",
       "63  1101110001111100000111111111111110000000000000...  \n",
       "64  1101110001111000000111101111111100000000100111...  \n",
       "\n",
       "[65 rows x 4 columns]"
      ]
     },
     "execution_count": 43,
     "metadata": {},
     "output_type": "execute_result"
    }
   ],
   "source": [
    "fp_df = []\n",
    "\n",
    "for dname, d_smiles in tqdm(name2smiles.items()):\n",
    "    mol = Chem.MolFromSmiles(d_smiles)\n",
    "    maccs_fp = MACCSkeys.GenMACCSKeys(mol).ToBitString() # 167-dim key\n",
    "   \n",
    "    morgan_fp = AllChem.GetMorganFingerprintAsBitVect(mol, 3, nBits=512).ToBitString()\n",
    "    pcp_fp = name2pcp_fp[dname]\n",
    "    \n",
    "    \n",
    "    fp_df.append({\"drug\": dname, \"MACCS_fp\": maccs_fp, \"mogan_fp\": morgan_fp, \"pubchem_fp\": pcp_fp})\n",
    "fp_df = pd.DataFrame(fp_df)\n",
    "fp_df\n",
    "    "
   ]
  },
  {
   "cell_type": "code",
   "execution_count": 24,
   "id": "54c7922d-bf0d-4477-9db8-7514541d9b53",
   "metadata": {},
   "outputs": [
    {
     "data": {
      "image/png": "[encoded data removed]",
      "text/plain": [
       "<rdkit.Chem.rdchem.Mol at 0x7f5e533509e0>"
      ]
     },
     "execution_count": 24,
     "metadata": {},
     "output_type": "execute_result"
    }
   ],
   "source": [
    "mol"
   ]
  },
  {
   "cell_type": "code",
   "execution_count": 46,
   "id": "a8edc001-570d-4b23-9743-678f5e5286ec",
   "metadata": {},
   "outputs": [],
   "source": [
    "fp_df.to_csv(\"../processed_data/drug_fingerprints.csv\", index=False)"
   ]
  },
  {
   "cell_type": "code",
   "execution_count": 47,
   "id": "829c6a8e-dbd8-4732-867d-ebb83f5598f4",
   "metadata": {},
   "outputs": [
    {
     "data": {
      "text/plain": [
       "'00100100000000100100001000000001110001011000000001000000000000000000000000000000100010000000000000000000000001000000110100101001100010001011010000000001001000100101000000000000000100010010000010100000001110010000011000100000000000000101000011110000110001010000000100000100100000101000100000000111000001101010100000100101010000000000000001000000100100000000100000000000000000000010010001111100010000000000000000001010010000010001100100010000100000000000001010000001000010110000000000001011000100011000000000010000'"
      ]
     },
     "execution_count": 47,
     "metadata": {},
     "output_type": "execute_result"
    }
   ],
   "source": [
    "morgan_fp"
   ]
  },
  {
   "cell_type": "code",
   "execution_count": 36,
   "id": "b3114a18-4ec1-421e-b3a4-879a77a0253a",
   "metadata": {},
   "outputs": [
    {
     "data": {
      "text/plain": [
       "'00000371E07BFC02700000000000000000000000580162C000002C400000000010000001F800001E0414C820000C28E5DF06BF9997DC1018AC4337F77C8082F1A9710AB909D8B5B864D88A6CEAE0D1B1943008609602F8C9061000000A00000000000000000000000000000000000000000000'"
      ]
     },
     "execution_count": 36,
     "metadata": {},
     "output_type": "execute_result"
    }
   ],
   "source": [
    "r.fingerprint"
   ]
  },
  {
   "cell_type": "markdown",
   "id": "4211082d-b587-4568-bb96-ea8c6226d198",
   "metadata": {},
   "source": [
    "# Compound representation"
   ]
  },
  {
   "cell_type": "code",
   "execution_count": 21,
   "id": "c30cd590-9547-4177-a044-3ddc0808d44a",
   "metadata": {},
   "outputs": [],
   "source": [
    "# antibiotics_data"
   ]
  },
  {
   "cell_type": "code",
   "execution_count": 22,
   "id": "96f4f8f3-c115-45a2-be05-522f145b25dc",
   "metadata": {},
   "outputs": [],
   "source": [
    "# antibiotics_data[\"number of samples\"].hist()"
   ]
  },
  {
   "cell_type": "code",
   "execution_count": 23,
   "id": "c77ba235-e39d-4813-9846-501d72b064ee",
   "metadata": {},
   "outputs": [],
   "source": [
    "# an_matching = {a: a.split(\"_\")[0] for a in antibiotics}\n",
    "# len(an_matching)"
   ]
  },
  {
   "cell_type": "code",
   "execution_count": 37,
   "id": "39aff528-0929-48ba-955d-ee23d5f2dfe7",
   "metadata": {},
   "outputs": [
    {
     "data": {
      "text/plain": [
       "{'ciprofloxacin': 'ciprofloxacin',\n",
       " 'meropenem': 'meropenem',\n",
       " 'imipenem': 'imipenem',\n",
       " 'cefepime': 'cefepime',\n",
       " 'piperacillin-tazobactam': 'piperacillin-tazobactam',\n",
       " 'ampicillin-amoxicillin': 'ampicillin-amoxicillin',\n",
       " 'cotrimoxazole': 'cotrimoxazole',\n",
       " 'ceftriaxone': 'ceftriaxone',\n",
       " 'amoxicillin-clavulanic acid': 'amoxicillin-clavulanic acid',\n",
       " 'levofloxacin': 'levofloxacin',\n",
       " 'colistin': 'colistin',\n",
       " 'tobramycin': 'tobramycin',\n",
       " 'ceftazidime': 'ceftazidime',\n",
       " 'amikacin': 'amikacin',\n",
       " 'vancomycin': 'vancomycin',\n",
       " 'ertapenem': 'ertapenem',\n",
       " 'penicillin': 'penicillin',\n",
       " 'linezolid': 'linezolid',\n",
       " 'tigecycline': 'tigecycline',\n",
       " 'clindamycin': 'clindamycin',\n",
       " 'daptomycin': 'daptomycin',\n",
       " 'erythromycin': 'erythromycin',\n",
       " 'oxacillin': 'oxacillin',\n",
       " 'rifampicin': 'rifampicin',\n",
       " 'fusidic acid': 'fusidic acid',\n",
       " 'gentamicin': 'gentamicin',\n",
       " 'cefuroxime': 'cefuroxime',\n",
       " 'cefazolin': 'cefazolin',\n",
       " 'tetracycline': 'tetracycline',\n",
       " 'teicoplanin': 'teicoplanin',\n",
       " 'cefpodoxime': 'cefpodoxime',\n",
       " 'fosfomycin-trometamol': 'fosfomycin-trometamol',\n",
       " 'norfloxacin': 'norfloxacin',\n",
       " 'mupirocin': 'mupirocin',\n",
       " 'nitrofurantoin': 'nitrofurantoin',\n",
       " 'aztreonam': 'aztreonam',\n",
       " 'caspofungin': 'caspofungin',\n",
       " 'gentamicin_high_level': 'gentamicin',\n",
       " '5-fluorocytosine': '5-fluorocytosine',\n",
       " 'micafungin': 'micafungin',\n",
       " 'anidulafungin': 'anidulafungin',\n",
       " 'fluconazole': 'fluconazole',\n",
       " 'itraconazole': 'itraconazole',\n",
       " 'amoxicillin': 'amoxicillin',\n",
       " 'amphotericin b': 'amphotericin b',\n",
       " 'voriconazole': 'voriconazole',\n",
       " 'posaconazole': 'posaconazole',\n",
       " 'moxifloxacin': 'moxifloxacin',\n",
       " 'penicillin_with_endokarditis': 'penicillin',\n",
       " 'penicillin_without_endokarditis': 'penicillin',\n",
       " 'clarithromycin': 'clarithromycin',\n",
       " 'penicillin_with_pneumonia': 'penicillin',\n",
       " 'penicillin_with_other_infections': 'penicillin',\n",
       " 'penicillin_with_meningitis': 'penicillin',\n",
       " 'metronidazole': 'metronidazole',\n",
       " 'quinolones': 'quinolones',\n",
       " 'meropenem_with_meningitis': 'meropenem',\n",
       " 'chloramphenicol': 'chloramphenicol',\n",
       " 'meropenem_without_meningitis': 'meropenem',\n",
       " 'aminoglycosides': 'aminoglycosides',\n",
       " 'doxycycline': 'doxycycline',\n",
       " 'azithromycin': 'azithromycin',\n",
       " 'fosfomycin': 'fosfomycin',\n",
       " 'amoxicillin-clavulanic acid_uncomplicated_hwi': 'amoxicillin-clavulanic acid',\n",
       " 'minocycline': 'minocycline',\n",
       " 'cefixime': 'cefixime',\n",
       " 'meropenem_with_pneumonia': 'meropenem',\n",
       " 'cefoxitin_screen': 'cefoxitin',\n",
       " 'vancomycin_grd': 'vancomycin',\n",
       " 'teicoplanin_grd': 'teicoplanin',\n",
       " 'rifampicin_1mg-l': 'rifampicin'}"
      ]
     },
     "execution_count": 37,
     "metadata": {},
     "output_type": "execute_result"
    }
   ],
   "source": [
    "an_matching"
   ]
  },
  {
   "cell_type": "code",
   "execution_count": null,
   "id": "a71a48ab-81ed-4623-b161-bd06a6b783c9",
   "metadata": {},
   "outputs": [],
   "source": []
  }
 ],
 "metadata": {
  "kernelspec": {
   "display_name": "Python 3",
   "language": "python",
   "name": "python3"
  },
  "language_info": {
   "codemirror_mode": {
    "name": "ipython",
    "version": 3
   },
   "file_extension": ".py",
   "mimetype": "text/x-python",
   "name": "python",
   "nbconvert_exporter": "python",
   "pygments_lexer": "ipython3",
   "version": "3.6.13"
  }
 },
 "nbformat": 4,
 "nbformat_minor": 5
}
