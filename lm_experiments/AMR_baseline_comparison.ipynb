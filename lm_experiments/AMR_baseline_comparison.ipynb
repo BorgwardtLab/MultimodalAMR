{
 "cells": [
  {
   "cell_type": "code",
   "execution_count": 94,
   "id": "e8cb4d73",
   "metadata": {},
   "outputs": [],
   "source": [
    "import numpy as np\n",
    "import os\n",
    "import pandas as pd\n",
    "import pickle\n",
    "import matplotlib.pyplot as plt\n",
    "import seaborn as sns\n",
    "\n",
    "from collections import defaultdict\n",
    "from ipywidgets import interact"
   ]
  },
  {
   "cell_type": "markdown",
   "id": "078b4d72",
   "metadata": {},
   "source": [
    "## Load baseline and new model results"
   ]
  },
  {
   "cell_type": "code",
   "execution_count": 95,
   "id": "6e3d0583",
   "metadata": {},
   "outputs": [],
   "source": [
    "data_path = \"./lm_experiments/DRIAMS_A/\"\n",
    "model_metrics = defaultdict(dict)\n",
    "model_roc = defaultdict(dict)\n",
    "model_pr = defaultdict(dict)\n",
    "\n",
    "for model_type in [\"GBM\", \"MLP\", \"LogisticRegression\"]:\n",
    "    \n",
    "    metrics = [i for i in os.listdir(os.path.join(data_path, model_type)) if \"metrics\" in i]\n",
    "    rocs = [i for i in os.listdir(os.path.join(data_path, model_type)) if \"_roc\" in i]\n",
    "    prs = [i for i in os.listdir(os.path.join(data_path, model_type)) if \"_pr\" in i]\n",
    "\n",
    "    # Retrieve metrics tables\n",
    "    for met in metrics:\n",
    "        model_metrics[model_type][met[:-12]] = pd.read_csv(os.path.join(data_path, model_type, met), index_col=0)\n",
    "    \n",
    "    # Retrieve ROC curves\n",
    "    for roc in rocs:        \n",
    "        with open(os.path.join(data_path, model_type, roc), 'rb') as handle:\n",
    "            roc_ = pickle.load(handle)\n",
    "        model_roc[model_type][roc[:-8]] = roc_\n",
    "    \n",
    "    # Retrieve PR curves\n",
    "    for pr in prs:\n",
    "        with open(os.path.join(data_path, model_type, pr), 'rb') as handle:\n",
    "            pr_ = pickle.load(handle)\n",
    "        model_pr[model_type][pr[:-7]] = pr_"
   ]
  },
  {
   "cell_type": "markdown",
   "id": "604bf63e",
   "metadata": {},
   "source": [
    "# Plot performance across models"
   ]
  },
  {
   "cell_type": "code",
   "execution_count": 117,
   "id": "d60ca4d9",
   "metadata": {},
   "outputs": [],
   "source": [
    "metrics = [\n",
    "    \"precision\",\n",
    "    \"recall\",\n",
    "    \"specificity\",\n",
    "    \"accuracy\",\n",
    "    \"balanced_accuracy\",\n",
    "    \"f1\",\n",
    "    \"mcc\",\n",
    "    \"roc_auc\",\n",
    "    \"auprc\",\n",
    "]"
   ]
  },
  {
   "cell_type": "code",
   "execution_count": 118,
   "id": "c4bf8731",
   "metadata": {},
   "outputs": [
    {
     "data": {
      "application/vnd.jupyter.widget-view+json": {
       "model_id": "82eed3fd3cfd41969d845ef89b2c331c",
       "version_major": 2,
       "version_minor": 0
      },
      "text/plain": [
       "interactive(children=(Dropdown(description='species_drug_setting', options=('Staphylococcus_aureus_Oxacillin',…"
      ]
     },
     "metadata": {},
     "output_type": "display_data"
    },
    {
     "data": {
      "text/plain": [
       "<Figure size 576x360 with 0 Axes>"
      ]
     },
     "metadata": {},
     "output_type": "display_data"
    }
   ],
   "source": [
    "@interact()\n",
    "def plot_performance(\n",
    "    species_drug_setting=model_metrics[\"GBM\"].keys()\n",
    "):\n",
    "    \n",
    "    metrics_table = pd.DataFrame()\n",
    "    for model_type in [\"GBM\", \"MLP\", \"LogisticRegression\"]:\n",
    "        \n",
    "        cur_metrics = model_metrics[model_type][species_drug_setting]\n",
    "        cur_metrics[\"model\"] = model_type\n",
    "        \n",
    "        metrics_table = pd.concat([metrics_table, cur_metrics])\n",
    "                \n",
    "    metrics_table = metrics_table.loc[:, metrics + [\"model\"]]\n",
    "    \n",
    "    plt.figure(figsize=(8, 5))\n",
    "    sns.set_context(\"talk\")\n",
    "                \n",
    "    sns.barplot(\n",
    "        data=metrics_table.melt(id_vars=\"model\"),\n",
    "        x=\"variable\",\n",
    "        y=\"value\",\n",
    "        hue=\"model\",\n",
    "        palette=\"Set2\"\n",
    "    )\n",
    "    \n",
    "    plt.xlabel(\"\")\n",
    "    plt.ylabel(\"metric value\")\n",
    "    \n",
    "    plt.xticks(rotation=45)\n",
    "    plt.show()\n"
   ]
  },
  {
   "cell_type": "code",
   "execution_count": null,
   "id": "e60ce757",
   "metadata": {},
   "outputs": [],
   "source": []
  }
 ],
 "metadata": {
  "kernelspec": {
   "display_name": "AMR",
   "language": "python",
   "name": "amr_pred"
  },
  "language_info": {
   "codemirror_mode": {
    "name": "ipython",
    "version": 3
   },
   "file_extension": ".py",
   "mimetype": "text/x-python",
   "name": "python",
   "nbconvert_exporter": "python",
   "pygments_lexer": "ipython3",
   "version": "3.9.12"
  }
 },
 "nbformat": 4,
 "nbformat_minor": 5
}
